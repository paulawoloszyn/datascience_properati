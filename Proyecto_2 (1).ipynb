{
 "cells": [
  {
   "cell_type": "markdown",
   "metadata": {
    "id": "38tA-ErIC4OD"
   },
   "source": [
    "# <font color=#7E9397>Proyecto 2: Ingeniería de features, Modelos avanzados e Interpretación de modelos</font>\n",
    "\n",
    "\n",
    "## <font color=#0FDAB1>0. EDA</font>"
   ]
  },
  {
   "cell_type": "markdown",
   "metadata": {
    "id": "LvPBQzg5C4OI"
   },
   "source": [
    "* ¿Qué tamaño tiene el dataset?¿Cuántas instancias y cuántas columnas?\n",
    "* ¿Cuántos valores faltantes hay en cada columna?\n",
    "* ¿Cómo es la distribución de cada variable? \n",
    "* ¿Cómo se relacionan las variables entre sí?\n",
    "* ¿Cómo están correlacionadas las variables numéricas?"
   ]
  },
  {
   "cell_type": "markdown",
   "metadata": {
    "id": "K2PLfIvLC4OK"
   },
   "source": [
    "#### 0. Importación de las librerías necesarias para trabajar en la consigna."
   ]
  },
  {
   "cell_type": "code",
   "execution_count": 4,
   "metadata": {
    "id": "fCGVacN5C4OM"
   },
   "outputs": [],
   "source": [
    "import pandas as pd\n",
    "import numpy as np\n",
    "import seaborn as sns\n",
    "import matplotlib.pyplot as plt\n",
    "from matplotlib.pyplot import figure\n",
    "from sklearn.linear_model import LinearRegression\n",
    "from sklearn.tree import DecisionTreeRegressor\n",
    "from sklearn.neighbors import KNeighborsRegressor\n",
    "from sklearn.metrics import mean_squared_error\n",
    "import seaborn as sns\n",
    "from sklearn.tree import DecisionTreeClassifier\n",
    "from sklearn.model_selection import train_test_split\n",
    "from sklearn.neighbors import KNeighborsRegressor\n",
    "from sklearn.metrics import mean_absolute_error"
   ]
  },
  {
   "cell_type": "markdown",
   "metadata": {
    "id": "5gWE6fwUC4OY"
   },
   "source": [
    "#### 1. Carga del dataset usando las funcionalidades de Pandas. Impresión de cuántas filas y columnas tiene, y sus cinco primeras instancias."
   ]
  },
  {
   "cell_type": "code",
   "execution_count": 5,
   "metadata": {
    "colab": {
     "base_uri": "https://localhost:8080/"
    },
    "id": "B7KtRQhMLavM",
    "outputId": "9145c4e9-60f1-4e20-bf55-ccf885f82299"
   },
   "outputs": [],
   "source": [
    "# from google.colab import drive\n",
    "# drive.mount('/content/drive')"
   ]
  },
  {
   "cell_type": "code",
   "execution_count": 6,
   "metadata": {
    "colab": {
     "base_uri": "https://localhost:8080/",
     "height": 564
    },
    "id": "YL2eAd_tC4Oa",
    "outputId": "5a4722cd-1111-485c-907d-5ff92b7cca99"
   },
   "outputs": [
    {
     "name": "stdout",
     "output_type": "stream",
     "text": [
      "Filas y columnas: (146660, 19)\n",
      "--------------------\n"
     ]
    },
    {
     "data": {
      "text/html": [
       "<div>\n",
       "<style scoped>\n",
       "    .dataframe tbody tr th:only-of-type {\n",
       "        vertical-align: middle;\n",
       "    }\n",
       "\n",
       "    .dataframe tbody tr th {\n",
       "        vertical-align: top;\n",
       "    }\n",
       "\n",
       "    .dataframe thead th {\n",
       "        text-align: right;\n",
       "    }\n",
       "</style>\n",
       "<table border=\"1\" class=\"dataframe\">\n",
       "  <thead>\n",
       "    <tr style=\"text-align: right;\">\n",
       "      <th></th>\n",
       "      <th>start_date</th>\n",
       "      <th>end_date</th>\n",
       "      <th>created_on</th>\n",
       "      <th>lat</th>\n",
       "      <th>lon</th>\n",
       "      <th>l1</th>\n",
       "      <th>l2</th>\n",
       "      <th>l3</th>\n",
       "      <th>rooms</th>\n",
       "      <th>bedrooms</th>\n",
       "      <th>bathrooms</th>\n",
       "      <th>surface_total</th>\n",
       "      <th>surface_covered</th>\n",
       "      <th>price</th>\n",
       "      <th>currency</th>\n",
       "      <th>title</th>\n",
       "      <th>description</th>\n",
       "      <th>property_type</th>\n",
       "      <th>operation_type</th>\n",
       "    </tr>\n",
       "  </thead>\n",
       "  <tbody>\n",
       "    <tr>\n",
       "      <th>0</th>\n",
       "      <td>2019-10-17</td>\n",
       "      <td>2019-12-23</td>\n",
       "      <td>2019-10-17</td>\n",
       "      <td>-34.605880</td>\n",
       "      <td>-58.384949</td>\n",
       "      <td>Argentina</td>\n",
       "      <td>Capital Federal</td>\n",
       "      <td>San Cristobal</td>\n",
       "      <td>7.0</td>\n",
       "      <td>7.0</td>\n",
       "      <td>2.0</td>\n",
       "      <td>140.0</td>\n",
       "      <td>140.0</td>\n",
       "      <td>153000.0</td>\n",
       "      <td>USD</td>\n",
       "      <td>***Venta semipiso centro, ideal hostel*****</td>\n",
       "      <td>DESCRIPCION DE LA PROPIEDAD: Departamento de 1...</td>\n",
       "      <td>Departamento</td>\n",
       "      <td>Venta</td>\n",
       "    </tr>\n",
       "    <tr>\n",
       "      <th>1</th>\n",
       "      <td>2019-10-17</td>\n",
       "      <td>2019-11-21</td>\n",
       "      <td>2019-10-17</td>\n",
       "      <td>-34.624056</td>\n",
       "      <td>-58.412110</td>\n",
       "      <td>Argentina</td>\n",
       "      <td>Capital Federal</td>\n",
       "      <td>Boedo</td>\n",
       "      <td>2.0</td>\n",
       "      <td>1.0</td>\n",
       "      <td>2.0</td>\n",
       "      <td>70.0</td>\n",
       "      <td>58.0</td>\n",
       "      <td>159000.0</td>\n",
       "      <td>USD</td>\n",
       "      <td>Espectacular PH reciclado en Boedo sin expensas.</td>\n",
       "      <td>PH reciclado en Boedo a una cuadra de la plaz...</td>\n",
       "      <td>PH</td>\n",
       "      <td>Venta</td>\n",
       "    </tr>\n",
       "    <tr>\n",
       "      <th>2</th>\n",
       "      <td>2019-10-17</td>\n",
       "      <td>2019-11-01</td>\n",
       "      <td>2019-10-17</td>\n",
       "      <td>-34.593569</td>\n",
       "      <td>-58.427474</td>\n",
       "      <td>Argentina</td>\n",
       "      <td>Capital Federal</td>\n",
       "      <td>Palermo</td>\n",
       "      <td>2.0</td>\n",
       "      <td>1.0</td>\n",
       "      <td>1.0</td>\n",
       "      <td>45.0</td>\n",
       "      <td>45.0</td>\n",
       "      <td>125000.0</td>\n",
       "      <td>USD</td>\n",
       "      <td>Depto.tipo casa de 2 ambientes en Venta en Pal...</td>\n",
       "      <td>2 ambienets amplio , excelente estado , patio ...</td>\n",
       "      <td>PH</td>\n",
       "      <td>Venta</td>\n",
       "    </tr>\n",
       "    <tr>\n",
       "      <th>3</th>\n",
       "      <td>2019-10-17</td>\n",
       "      <td>2019-12-23</td>\n",
       "      <td>2019-10-17</td>\n",
       "      <td>-34.581294</td>\n",
       "      <td>-58.436754</td>\n",
       "      <td>Argentina</td>\n",
       "      <td>Capital Federal</td>\n",
       "      <td>Palermo</td>\n",
       "      <td>2.0</td>\n",
       "      <td>1.0</td>\n",
       "      <td>1.0</td>\n",
       "      <td>85.0</td>\n",
       "      <td>50.0</td>\n",
       "      <td>295000.0</td>\n",
       "      <td>USD</td>\n",
       "      <td>COSTA RICA 5800 / PALERMO HOLLYWOOD / VENTA PH...</td>\n",
       "      <td>HERMOSO PH EN PALERMO!!!2 AMBIENTES TOTALMENTE...</td>\n",
       "      <td>PH</td>\n",
       "      <td>Venta</td>\n",
       "    </tr>\n",
       "    <tr>\n",
       "      <th>4</th>\n",
       "      <td>2019-10-17</td>\n",
       "      <td>2020-03-11</td>\n",
       "      <td>2019-10-17</td>\n",
       "      <td>-34.914194</td>\n",
       "      <td>-57.938219</td>\n",
       "      <td>Argentina</td>\n",
       "      <td>Bs.As. G.B.A. Zona Sur</td>\n",
       "      <td>La Plata</td>\n",
       "      <td>2.0</td>\n",
       "      <td>1.0</td>\n",
       "      <td>1.0</td>\n",
       "      <td>50.0</td>\n",
       "      <td>35.0</td>\n",
       "      <td>40000.0</td>\n",
       "      <td>USD</td>\n",
       "      <td>58 entre 1 y 2  Venta de departamento en ph.1 ...</td>\n",
       "      <td>58 entre 1 y 2  Venta de departamento en PH. P...</td>\n",
       "      <td>PH</td>\n",
       "      <td>Venta</td>\n",
       "    </tr>\n",
       "  </tbody>\n",
       "</table>\n",
       "</div>"
      ],
      "text/plain": [
       "   start_date    end_date  created_on        lat        lon         l1  \\\n",
       "0  2019-10-17  2019-12-23  2019-10-17 -34.605880 -58.384949  Argentina   \n",
       "1  2019-10-17  2019-11-21  2019-10-17 -34.624056 -58.412110  Argentina   \n",
       "2  2019-10-17  2019-11-01  2019-10-17 -34.593569 -58.427474  Argentina   \n",
       "3  2019-10-17  2019-12-23  2019-10-17 -34.581294 -58.436754  Argentina   \n",
       "4  2019-10-17  2020-03-11  2019-10-17 -34.914194 -57.938219  Argentina   \n",
       "\n",
       "                       l2             l3  rooms  bedrooms  bathrooms  \\\n",
       "0         Capital Federal  San Cristobal    7.0       7.0        2.0   \n",
       "1         Capital Federal          Boedo    2.0       1.0        2.0   \n",
       "2         Capital Federal        Palermo    2.0       1.0        1.0   \n",
       "3         Capital Federal        Palermo    2.0       1.0        1.0   \n",
       "4  Bs.As. G.B.A. Zona Sur       La Plata    2.0       1.0        1.0   \n",
       "\n",
       "   surface_total  surface_covered     price currency  \\\n",
       "0          140.0            140.0  153000.0      USD   \n",
       "1           70.0             58.0  159000.0      USD   \n",
       "2           45.0             45.0  125000.0      USD   \n",
       "3           85.0             50.0  295000.0      USD   \n",
       "4           50.0             35.0   40000.0      USD   \n",
       "\n",
       "                                               title  \\\n",
       "0        ***Venta semipiso centro, ideal hostel*****   \n",
       "1   Espectacular PH reciclado en Boedo sin expensas.   \n",
       "2  Depto.tipo casa de 2 ambientes en Venta en Pal...   \n",
       "3  COSTA RICA 5800 / PALERMO HOLLYWOOD / VENTA PH...   \n",
       "4  58 entre 1 y 2  Venta de departamento en ph.1 ...   \n",
       "\n",
       "                                         description property_type  \\\n",
       "0  DESCRIPCION DE LA PROPIEDAD: Departamento de 1...  Departamento   \n",
       "1   PH reciclado en Boedo a una cuadra de la plaz...            PH   \n",
       "2  2 ambienets amplio , excelente estado , patio ...            PH   \n",
       "3  HERMOSO PH EN PALERMO!!!2 AMBIENTES TOTALMENTE...            PH   \n",
       "4  58 entre 1 y 2  Venta de departamento en PH. P...            PH   \n",
       "\n",
       "  operation_type  \n",
       "0          Venta  \n",
       "1          Venta  \n",
       "2          Venta  \n",
       "3          Venta  \n",
       "4          Venta  "
      ]
     },
     "execution_count": 6,
     "metadata": {},
     "output_type": "execute_result"
    }
   ],
   "source": [
    "# url = open(\"/content/drive/MyDrive/Proyecto 2/DS_Proyecto_01_Datos_Properati.csv\")\n",
    "df = pd.read_csv('properati.csv')\n",
    "\n",
    "print(\"Filas y columnas: \" + str(df.shape))\n",
    "print(\"--------------------\")\n",
    "\n",
    "df.head()"
   ]
  },
  {
   "cell_type": "code",
   "execution_count": 7,
   "metadata": {
    "id": "AHkLPy-0HlAv"
   },
   "outputs": [],
   "source": [
    "# df.describe()"
   ]
  },
  {
   "cell_type": "markdown",
   "metadata": {
    "id": "1rOUmdUbHlAv"
   },
   "source": [
    "####   <font color=#0FDAB1>**Extra 1:** </font>Cambio de nombre de las columnas."
   ]
  },
  {
   "cell_type": "code",
   "execution_count": 8,
   "metadata": {
    "id": "OZGxkOAHHlAv"
   },
   "outputs": [],
   "source": [
    "df = df.rename(columns={\"start_date\": \"Fecha_inicio\", \"end_date\": \"Fecha_fin\", \"created_on\": \"Creado\", \n",
    "                        \"lat\": \"Latitud\", \"lon\": \"Longitud\", \"l1\": \"Pais\", \"l2\": \"Region\", \"l3\": \"Zona\", \n",
    "                        \"rooms\": \"Hab\", \"bedrooms\": \"Dormit\", \"bathrooms\": \"Baths\", \"surface_total\": \n",
    "                        \"Sup_Total\", \"surface_covered\": \"Sup_Cubierta\", \"price\": \"Precio\", \"currency\": \"Moneda\",\n",
    "                        \"title\": \"Titulo\", \"description\": \"Descripcion\", \"property_type\": \"Tipo_prop\", \"operation_type\": \"Operacion\"})\n",
    "\n"
   ]
  },
  {
   "cell_type": "markdown",
   "metadata": {
    "id": "96W1aSBvHlAv"
   },
   "source": [
    "## <font color=#0FDAB1>PARTE A - Transformación de Datos</font>"
   ]
  },
  {
   "cell_type": "markdown",
   "metadata": {
    "id": "BJ-XiUsvC4Oh"
   },
   "source": [
    "### 1. **Valores Faltantes**: impresión en pantalla los nombres de las columnas y cuántos valores faltantes hay por columna. "
   ]
  },
  {
   "cell_type": "code",
   "execution_count": 9,
   "metadata": {
    "colab": {
     "base_uri": "https://localhost:8080/"
    },
    "id": "1QletBbgC4Oi",
    "outputId": "624b2f2a-8b36-4ba2-82ab-7a0ddc23a819"
   },
   "outputs": [
    {
     "name": "stdout",
     "output_type": "stream",
     "text": [
      "(146660, 19)\n",
      "Fecha_inicio        0\n",
      "Fecha_fin           0\n",
      "Creado              0\n",
      "Latitud          9925\n",
      "Longitud         9959\n",
      "Pais                0\n",
      "Region              0\n",
      "Zona                0\n",
      "Hab                 0\n",
      "Dormit              0\n",
      "Baths            5957\n",
      "Sup_Total       20527\n",
      "Sup_Cubierta    21614\n",
      "Precio              0\n",
      "Moneda              0\n",
      "Titulo              0\n",
      "Descripcion         0\n",
      "Tipo_prop           0\n",
      "Operacion           0\n",
      "dtype: int64\n",
      "------------------------\n"
     ]
    }
   ],
   "source": [
    "print(df.shape)\n",
    "\n",
    "miss_values_count = df.isnull().sum()  \n",
    "print(miss_values_count)\n",
    "\n",
    "print(\"------------------------\")"
   ]
  },
  {
   "cell_type": "markdown",
   "metadata": {
    "id": "DkiTX1fAHlAw"
   },
   "source": [
    "Las primeras 5 columnas no serán usadas y se descartarán. Por otro lado, de 146660 registros, se observa que casi 6000 no tienen información sobre la cantidad de baños. También hay datos faltantes en cuanto a superficie total y superficie cubierta. \n",
    "De acuerdo a esto, los registros sin información sobre el número de baños se descartará, teniendo en cuenta que no representa una gran pérdida para el dataset."
   ]
  },
  {
   "cell_type": "code",
   "execution_count": 10,
   "metadata": {
    "id": "ZAQDUY5lHlAw"
   },
   "outputs": [],
   "source": [
    "df = df.drop(['Fecha_inicio', 'Fecha_fin', 'Creado', 'Latitud', 'Longitud'], axis=1)\n",
    "\n",
    "# df.head()"
   ]
  },
  {
   "cell_type": "code",
   "execution_count": 11,
   "metadata": {
    "colab": {
     "base_uri": "https://localhost:8080/"
    },
    "id": "E_CuOWehHlAx",
    "outputId": "50817be3-d4c0-47d4-e3eb-22f8f9e851fd"
   },
   "outputs": [
    {
     "name": "stdout",
     "output_type": "stream",
     "text": [
      "Pais                0\n",
      "Region              0\n",
      "Zona                0\n",
      "Hab                 0\n",
      "Dormit              0\n",
      "Baths            5957\n",
      "Sup_Total       20527\n",
      "Sup_Cubierta    21614\n",
      "Precio              0\n",
      "Moneda              0\n",
      "Titulo              0\n",
      "Descripcion         0\n",
      "Tipo_prop           0\n",
      "Operacion           0\n",
      "dtype: int64\n"
     ]
    }
   ],
   "source": [
    "miss_values_count = df.isnull().sum()  \n",
    "print(miss_values_count)"
   ]
  },
  {
   "cell_type": "code",
   "execution_count": 12,
   "metadata": {
    "colab": {
     "base_uri": "https://localhost:8080/"
    },
    "id": "CTWK8cgpHlAx",
    "outputId": "46e3870c-eae6-48dc-9abc-6b9b3f1a8e83"
   },
   "outputs": [
    {
     "name": "stdout",
     "output_type": "stream",
     "text": [
      "(146660, 14)\n"
     ]
    },
    {
     "data": {
      "text/plain": [
       "(140703, 14)"
      ]
     },
     "execution_count": 12,
     "metadata": {},
     "output_type": "execute_result"
    }
   ],
   "source": [
    "print(df.shape)\n",
    "\n",
    "df.drop(df[df.Baths.isna()].index, inplace = True)\n",
    "df.shape"
   ]
  },
  {
   "cell_type": "markdown",
   "metadata": {
    "id": "NT7vPZgGHlAx"
   },
   "source": [
    "¿Cuánto representa, en porcentaje, los valores faltantes de superficies totales y cubiertas?"
   ]
  },
  {
   "cell_type": "code",
   "execution_count": 13,
   "metadata": {
    "colab": {
     "base_uri": "https://localhost:8080/"
    },
    "id": "zT2tFbKTHlAx",
    "outputId": "cf6f141b-fbcf-4d5d-82a9-f024f333d4f2"
   },
   "outputs": [
    {
     "name": "stdout",
     "output_type": "stream",
     "text": [
      "11.813536314080013\n",
      "12.35368115818426\n"
     ]
    }
   ],
   "source": [
    "instancias = 140703\n",
    "\n",
    "suptotal_miss = df.Sup_Total.isnull().sum()\n",
    "suptotal_miss = suptotal_miss*100/instancias\n",
    "print(suptotal_miss)\n",
    "\n",
    "supcub_miss = df.Sup_Cubierta.isnull().sum()\n",
    "supcub_miss = supcub_miss*100/instancias\n",
    "print(supcub_miss)"
   ]
  },
  {
   "cell_type": "markdown",
   "metadata": {
    "id": "3XTSOF6lHlAy"
   },
   "source": [
    "Un poco más del 10%, por lo tanto se optará por imputar los valores faltantes. Están ambas correlacionadas? "
   ]
  },
  {
   "cell_type": "code",
   "execution_count": 14,
   "metadata": {
    "colab": {
     "base_uri": "https://localhost:8080/",
     "height": 297
    },
    "id": "QipXj-ZvHlAy",
    "outputId": "25379723-a092-4bef-af79-9c0c6a2db421"
   },
   "outputs": [
    {
     "data": {
      "text/html": [
       "<div>\n",
       "<style scoped>\n",
       "    .dataframe tbody tr th:only-of-type {\n",
       "        vertical-align: middle;\n",
       "    }\n",
       "\n",
       "    .dataframe tbody tr th {\n",
       "        vertical-align: top;\n",
       "    }\n",
       "\n",
       "    .dataframe thead th {\n",
       "        text-align: right;\n",
       "    }\n",
       "</style>\n",
       "<table border=\"1\" class=\"dataframe\">\n",
       "  <thead>\n",
       "    <tr style=\"text-align: right;\">\n",
       "      <th></th>\n",
       "      <th>Hab</th>\n",
       "      <th>Dormit</th>\n",
       "      <th>Baths</th>\n",
       "      <th>Sup_Total</th>\n",
       "      <th>Sup_Cubierta</th>\n",
       "      <th>Precio</th>\n",
       "    </tr>\n",
       "  </thead>\n",
       "  <tbody>\n",
       "    <tr>\n",
       "      <th>count</th>\n",
       "      <td>140703.000000</td>\n",
       "      <td>140703.000000</td>\n",
       "      <td>140703.000000</td>\n",
       "      <td>124081.000000</td>\n",
       "      <td>123321.000000</td>\n",
       "      <td>1.407030e+05</td>\n",
       "    </tr>\n",
       "    <tr>\n",
       "      <th>mean</th>\n",
       "      <td>3.105819</td>\n",
       "      <td>2.006261</td>\n",
       "      <td>1.599994</td>\n",
       "      <td>213.515615</td>\n",
       "      <td>112.048954</td>\n",
       "      <td>2.392720e+05</td>\n",
       "    </tr>\n",
       "    <tr>\n",
       "      <th>std</th>\n",
       "      <td>1.401465</td>\n",
       "      <td>1.131694</td>\n",
       "      <td>0.889324</td>\n",
       "      <td>2019.845200</td>\n",
       "      <td>897.123415</td>\n",
       "      <td>2.897480e+05</td>\n",
       "    </tr>\n",
       "    <tr>\n",
       "      <th>min</th>\n",
       "      <td>1.000000</td>\n",
       "      <td>0.000000</td>\n",
       "      <td>1.000000</td>\n",
       "      <td>10.000000</td>\n",
       "      <td>1.000000</td>\n",
       "      <td>6.000000e+03</td>\n",
       "    </tr>\n",
       "    <tr>\n",
       "      <th>25%</th>\n",
       "      <td>2.000000</td>\n",
       "      <td>1.000000</td>\n",
       "      <td>1.000000</td>\n",
       "      <td>52.000000</td>\n",
       "      <td>47.000000</td>\n",
       "      <td>1.138005e+05</td>\n",
       "    </tr>\n",
       "    <tr>\n",
       "      <th>50%</th>\n",
       "      <td>3.000000</td>\n",
       "      <td>2.000000</td>\n",
       "      <td>1.000000</td>\n",
       "      <td>78.000000</td>\n",
       "      <td>68.000000</td>\n",
       "      <td>1.680000e+05</td>\n",
       "    </tr>\n",
       "    <tr>\n",
       "      <th>75%</th>\n",
       "      <td>4.000000</td>\n",
       "      <td>3.000000</td>\n",
       "      <td>2.000000</td>\n",
       "      <td>140.000000</td>\n",
       "      <td>108.000000</td>\n",
       "      <td>2.650000e+05</td>\n",
       "    </tr>\n",
       "    <tr>\n",
       "      <th>max</th>\n",
       "      <td>35.000000</td>\n",
       "      <td>15.000000</td>\n",
       "      <td>14.000000</td>\n",
       "      <td>193549.000000</td>\n",
       "      <td>126062.000000</td>\n",
       "      <td>3.243423e+07</td>\n",
       "    </tr>\n",
       "  </tbody>\n",
       "</table>\n",
       "</div>"
      ],
      "text/plain": [
       "                 Hab         Dormit          Baths      Sup_Total  \\\n",
       "count  140703.000000  140703.000000  140703.000000  124081.000000   \n",
       "mean        3.105819       2.006261       1.599994     213.515615   \n",
       "std         1.401465       1.131694       0.889324    2019.845200   \n",
       "min         1.000000       0.000000       1.000000      10.000000   \n",
       "25%         2.000000       1.000000       1.000000      52.000000   \n",
       "50%         3.000000       2.000000       1.000000      78.000000   \n",
       "75%         4.000000       3.000000       2.000000     140.000000   \n",
       "max        35.000000      15.000000      14.000000  193549.000000   \n",
       "\n",
       "        Sup_Cubierta        Precio  \n",
       "count  123321.000000  1.407030e+05  \n",
       "mean      112.048954  2.392720e+05  \n",
       "std       897.123415  2.897480e+05  \n",
       "min         1.000000  6.000000e+03  \n",
       "25%        47.000000  1.138005e+05  \n",
       "50%        68.000000  1.680000e+05  \n",
       "75%       108.000000  2.650000e+05  \n",
       "max    126062.000000  3.243423e+07  "
      ]
     },
     "execution_count": 14,
     "metadata": {},
     "output_type": "execute_result"
    }
   ],
   "source": [
    "df.describe()"
   ]
  },
  {
   "cell_type": "code",
   "execution_count": 15,
   "metadata": {
    "colab": {
     "base_uri": "https://localhost:8080/",
     "height": 289
    },
    "id": "u5MdaNxAHlAy",
    "outputId": "c37b8643-9e3b-4b81-b27f-8e901dddfda1"
   },
   "outputs": [
    {
     "data": {
      "text/html": [
       "<div>\n",
       "<style scoped>\n",
       "    .dataframe tbody tr th:only-of-type {\n",
       "        vertical-align: middle;\n",
       "    }\n",
       "\n",
       "    .dataframe tbody tr th {\n",
       "        vertical-align: top;\n",
       "    }\n",
       "\n",
       "    .dataframe thead th {\n",
       "        text-align: right;\n",
       "    }\n",
       "</style>\n",
       "<table border=\"1\" class=\"dataframe\">\n",
       "  <thead>\n",
       "    <tr style=\"text-align: right;\">\n",
       "      <th></th>\n",
       "      <th>Pais</th>\n",
       "      <th>Region</th>\n",
       "      <th>Zona</th>\n",
       "      <th>Hab</th>\n",
       "      <th>Dormit</th>\n",
       "      <th>Baths</th>\n",
       "      <th>Sup_Total</th>\n",
       "      <th>Sup_Cubierta</th>\n",
       "      <th>Precio</th>\n",
       "      <th>Moneda</th>\n",
       "      <th>Titulo</th>\n",
       "      <th>Descripcion</th>\n",
       "      <th>Tipo_prop</th>\n",
       "      <th>Operacion</th>\n",
       "    </tr>\n",
       "  </thead>\n",
       "  <tbody>\n",
       "    <tr>\n",
       "      <th>723</th>\n",
       "      <td>Argentina</td>\n",
       "      <td>Bs.As. G.B.A. Zona Oeste</td>\n",
       "      <td>La Matanza</td>\n",
       "      <td>2.0</td>\n",
       "      <td>1.0</td>\n",
       "      <td>1.0</td>\n",
       "      <td>NaN</td>\n",
       "      <td>NaN</td>\n",
       "      <td>75000.0</td>\n",
       "      <td>USD</td>\n",
       "      <td>DEPARTAMENTO EN VENTA</td>\n",
       "      <td>Xintel (RUS-RUS-7654) Venta de Departamento 2 ...</td>\n",
       "      <td>Departamento</td>\n",
       "      <td>Venta</td>\n",
       "    </tr>\n",
       "    <tr>\n",
       "      <th>727</th>\n",
       "      <td>Argentina</td>\n",
       "      <td>Bs.As. G.B.A. Zona Oeste</td>\n",
       "      <td>La Matanza</td>\n",
       "      <td>2.0</td>\n",
       "      <td>1.0</td>\n",
       "      <td>1.0</td>\n",
       "      <td>NaN</td>\n",
       "      <td>NaN</td>\n",
       "      <td>75000.0</td>\n",
       "      <td>USD</td>\n",
       "      <td>DEPARTAMENTO EN VENTA</td>\n",
       "      <td>Xintel (RUS-RUS-7651) Venta de Departamento 2 ...</td>\n",
       "      <td>Departamento</td>\n",
       "      <td>Venta</td>\n",
       "    </tr>\n",
       "    <tr>\n",
       "      <th>728</th>\n",
       "      <td>Argentina</td>\n",
       "      <td>Bs.As. G.B.A. Zona Oeste</td>\n",
       "      <td>La Matanza</td>\n",
       "      <td>2.0</td>\n",
       "      <td>1.0</td>\n",
       "      <td>1.0</td>\n",
       "      <td>NaN</td>\n",
       "      <td>NaN</td>\n",
       "      <td>75000.0</td>\n",
       "      <td>USD</td>\n",
       "      <td>DEPARTAMENTO EN VENTA</td>\n",
       "      <td>Xintel (RUS-RUS-7650) Venta de Departamento 2 ...</td>\n",
       "      <td>Departamento</td>\n",
       "      <td>Venta</td>\n",
       "    </tr>\n",
       "    <tr>\n",
       "      <th>890</th>\n",
       "      <td>Argentina</td>\n",
       "      <td>Bs.As. G.B.A. Zona Oeste</td>\n",
       "      <td>La Matanza</td>\n",
       "      <td>3.0</td>\n",
       "      <td>2.0</td>\n",
       "      <td>1.0</td>\n",
       "      <td>NaN</td>\n",
       "      <td>NaN</td>\n",
       "      <td>120000.0</td>\n",
       "      <td>USD</td>\n",
       "      <td>DEPARTAMENTO EN VENTA</td>\n",
       "      <td>Xintel (RUS-RUS-7648) Venta de Departamento 3 ...</td>\n",
       "      <td>Departamento</td>\n",
       "      <td>Venta</td>\n",
       "    </tr>\n",
       "    <tr>\n",
       "      <th>891</th>\n",
       "      <td>Argentina</td>\n",
       "      <td>Bs.As. G.B.A. Zona Oeste</td>\n",
       "      <td>La Matanza</td>\n",
       "      <td>3.0</td>\n",
       "      <td>2.0</td>\n",
       "      <td>1.0</td>\n",
       "      <td>NaN</td>\n",
       "      <td>NaN</td>\n",
       "      <td>95000.0</td>\n",
       "      <td>USD</td>\n",
       "      <td>DEPARTAMENTO EN VENTA</td>\n",
       "      <td>Xintel (RUS-RUS-7655) Venta de Departamento 3 ...</td>\n",
       "      <td>Departamento</td>\n",
       "      <td>Venta</td>\n",
       "    </tr>\n",
       "  </tbody>\n",
       "</table>\n",
       "</div>"
      ],
      "text/plain": [
       "          Pais                    Region        Zona  Hab  Dormit  Baths  \\\n",
       "723  Argentina  Bs.As. G.B.A. Zona Oeste  La Matanza  2.0     1.0    1.0   \n",
       "727  Argentina  Bs.As. G.B.A. Zona Oeste  La Matanza  2.0     1.0    1.0   \n",
       "728  Argentina  Bs.As. G.B.A. Zona Oeste  La Matanza  2.0     1.0    1.0   \n",
       "890  Argentina  Bs.As. G.B.A. Zona Oeste  La Matanza  3.0     2.0    1.0   \n",
       "891  Argentina  Bs.As. G.B.A. Zona Oeste  La Matanza  3.0     2.0    1.0   \n",
       "\n",
       "     Sup_Total  Sup_Cubierta    Precio Moneda                 Titulo  \\\n",
       "723        NaN           NaN   75000.0    USD  DEPARTAMENTO EN VENTA   \n",
       "727        NaN           NaN   75000.0    USD  DEPARTAMENTO EN VENTA   \n",
       "728        NaN           NaN   75000.0    USD  DEPARTAMENTO EN VENTA   \n",
       "890        NaN           NaN  120000.0    USD  DEPARTAMENTO EN VENTA   \n",
       "891        NaN           NaN   95000.0    USD  DEPARTAMENTO EN VENTA   \n",
       "\n",
       "                                           Descripcion     Tipo_prop Operacion  \n",
       "723  Xintel (RUS-RUS-7654) Venta de Departamento 2 ...  Departamento     Venta  \n",
       "727  Xintel (RUS-RUS-7651) Venta de Departamento 2 ...  Departamento     Venta  \n",
       "728  Xintel (RUS-RUS-7650) Venta de Departamento 2 ...  Departamento     Venta  \n",
       "890  Xintel (RUS-RUS-7648) Venta de Departamento 3 ...  Departamento     Venta  \n",
       "891  Xintel (RUS-RUS-7655) Venta de Departamento 3 ...  Departamento     Venta  "
      ]
     },
     "execution_count": 15,
     "metadata": {},
     "output_type": "execute_result"
    }
   ],
   "source": [
    "corr = df[(df.Sup_Total.isnull()) & (df.Sup_Cubierta.isnull())]\n",
    "corr.head()\n",
    "# corr.describe()"
   ]
  },
  {
   "cell_type": "markdown",
   "metadata": {
    "id": "a_fhIwUGHlAy"
   },
   "source": [
    "Se observa que, en general, cuando falta un dato de una de las columnas, falta también de la otra. Como no se observa una clara correlación con otras variables, se puede hipotetizar de que que la falta de esos datos se corresponde con algun factor externo. Se procede con la imputación con la media."
   ]
  },
  {
   "cell_type": "code",
   "execution_count": 16,
   "metadata": {
    "colab": {
     "base_uri": "https://localhost:8080/"
    },
    "id": "5IMG434dHlAz",
    "outputId": "1c5d5dd3-56ad-4657-9c79-28e274edbacf"
   },
   "outputs": [
    {
     "data": {
      "text/plain": [
       "Pais            0\n",
       "Region          0\n",
       "Zona            0\n",
       "Hab             0\n",
       "Dormit          0\n",
       "Baths           0\n",
       "Sup_Total       0\n",
       "Sup_Cubierta    0\n",
       "Precio          0\n",
       "Moneda          0\n",
       "Titulo          0\n",
       "Descripcion     0\n",
       "Tipo_prop       0\n",
       "Operacion       0\n",
       "dtype: int64"
      ]
     },
     "execution_count": 16,
     "metadata": {},
     "output_type": "execute_result"
    }
   ],
   "source": [
    "df.Sup_Total.fillna(df.Sup_Total.mean(),inplace = True)\n",
    "df.Sup_Cubierta.fillna(df.Sup_Cubierta.mean(),inplace = True)\n",
    "\n",
    "df.isnull().sum()"
   ]
  },
  {
   "cell_type": "markdown",
   "metadata": {
    "id": "I8TFhN5_HlAz"
   },
   "source": [
    "### 2. **Outliers**: Rango intercuartílico"
   ]
  },
  {
   "cell_type": "markdown",
   "metadata": {
    "id": "LcV0wkuQHlAz"
   },
   "source": [
    "Para el manejo de outliers, se utilizará la técnica de los percentiles 25 y 75. En principio, se observará sobre qué variables aplicarla.\n",
    "\n",
    "En este caso, se ve que las columnas correspondientes a dormitorios, baños y superficie (cubierta y total), son a las que corresponde aplicar la regla, ya que poseen algunos valores que se alejan significativamente de la media. Además, el conocimiento sobre la materia hace suponer que un inmueble con 35 habitaciones es sumamente extraño, por lo cual deberá ser tenido en cuenta de forma aislada. Lo mismo puede decirse de la cantidad de baños, o de propiedades con superficies muy extensas."
   ]
  },
  {
   "cell_type": "code",
   "execution_count": 17,
   "metadata": {
    "colab": {
     "base_uri": "https://localhost:8080/",
     "height": 297
    },
    "id": "uosLIOi8HlAz",
    "outputId": "e7ed7013-c395-4040-886b-df0e704f7108"
   },
   "outputs": [
    {
     "data": {
      "text/html": [
       "<div>\n",
       "<style scoped>\n",
       "    .dataframe tbody tr th:only-of-type {\n",
       "        vertical-align: middle;\n",
       "    }\n",
       "\n",
       "    .dataframe tbody tr th {\n",
       "        vertical-align: top;\n",
       "    }\n",
       "\n",
       "    .dataframe thead th {\n",
       "        text-align: right;\n",
       "    }\n",
       "</style>\n",
       "<table border=\"1\" class=\"dataframe\">\n",
       "  <thead>\n",
       "    <tr style=\"text-align: right;\">\n",
       "      <th></th>\n",
       "      <th>Hab</th>\n",
       "      <th>Dormit</th>\n",
       "      <th>Baths</th>\n",
       "      <th>Sup_Total</th>\n",
       "      <th>Sup_Cubierta</th>\n",
       "      <th>Precio</th>\n",
       "    </tr>\n",
       "  </thead>\n",
       "  <tbody>\n",
       "    <tr>\n",
       "      <th>count</th>\n",
       "      <td>140703.000000</td>\n",
       "      <td>140703.000000</td>\n",
       "      <td>140703.000000</td>\n",
       "      <td>140703.000000</td>\n",
       "      <td>140703.000000</td>\n",
       "      <td>1.407030e+05</td>\n",
       "    </tr>\n",
       "    <tr>\n",
       "      <th>mean</th>\n",
       "      <td>3.105819</td>\n",
       "      <td>2.006261</td>\n",
       "      <td>1.599994</td>\n",
       "      <td>213.515615</td>\n",
       "      <td>112.048954</td>\n",
       "      <td>2.392720e+05</td>\n",
       "    </tr>\n",
       "    <tr>\n",
       "      <th>std</th>\n",
       "      <td>1.401465</td>\n",
       "      <td>1.131694</td>\n",
       "      <td>0.889324</td>\n",
       "      <td>1896.788219</td>\n",
       "      <td>839.883046</td>\n",
       "      <td>2.897480e+05</td>\n",
       "    </tr>\n",
       "    <tr>\n",
       "      <th>min</th>\n",
       "      <td>1.000000</td>\n",
       "      <td>0.000000</td>\n",
       "      <td>1.000000</td>\n",
       "      <td>10.000000</td>\n",
       "      <td>1.000000</td>\n",
       "      <td>6.000000e+03</td>\n",
       "    </tr>\n",
       "    <tr>\n",
       "      <th>25%</th>\n",
       "      <td>2.000000</td>\n",
       "      <td>1.000000</td>\n",
       "      <td>1.000000</td>\n",
       "      <td>55.000000</td>\n",
       "      <td>49.000000</td>\n",
       "      <td>1.138005e+05</td>\n",
       "    </tr>\n",
       "    <tr>\n",
       "      <th>50%</th>\n",
       "      <td>3.000000</td>\n",
       "      <td>2.000000</td>\n",
       "      <td>1.000000</td>\n",
       "      <td>88.000000</td>\n",
       "      <td>75.000000</td>\n",
       "      <td>1.680000e+05</td>\n",
       "    </tr>\n",
       "    <tr>\n",
       "      <th>75%</th>\n",
       "      <td>4.000000</td>\n",
       "      <td>3.000000</td>\n",
       "      <td>2.000000</td>\n",
       "      <td>207.000000</td>\n",
       "      <td>112.048954</td>\n",
       "      <td>2.650000e+05</td>\n",
       "    </tr>\n",
       "    <tr>\n",
       "      <th>max</th>\n",
       "      <td>35.000000</td>\n",
       "      <td>15.000000</td>\n",
       "      <td>14.000000</td>\n",
       "      <td>193549.000000</td>\n",
       "      <td>126062.000000</td>\n",
       "      <td>3.243423e+07</td>\n",
       "    </tr>\n",
       "  </tbody>\n",
       "</table>\n",
       "</div>"
      ],
      "text/plain": [
       "                 Hab         Dormit          Baths      Sup_Total  \\\n",
       "count  140703.000000  140703.000000  140703.000000  140703.000000   \n",
       "mean        3.105819       2.006261       1.599994     213.515615   \n",
       "std         1.401465       1.131694       0.889324    1896.788219   \n",
       "min         1.000000       0.000000       1.000000      10.000000   \n",
       "25%         2.000000       1.000000       1.000000      55.000000   \n",
       "50%         3.000000       2.000000       1.000000      88.000000   \n",
       "75%         4.000000       3.000000       2.000000     207.000000   \n",
       "max        35.000000      15.000000      14.000000  193549.000000   \n",
       "\n",
       "        Sup_Cubierta        Precio  \n",
       "count  140703.000000  1.407030e+05  \n",
       "mean      112.048954  2.392720e+05  \n",
       "std       839.883046  2.897480e+05  \n",
       "min         1.000000  6.000000e+03  \n",
       "25%        49.000000  1.138005e+05  \n",
       "50%        75.000000  1.680000e+05  \n",
       "75%       112.048954  2.650000e+05  \n",
       "max    126062.000000  3.243423e+07  "
      ]
     },
     "execution_count": 17,
     "metadata": {},
     "output_type": "execute_result"
    }
   ],
   "source": [
    "df.describe()"
   ]
  },
  {
   "cell_type": "code",
   "execution_count": 18,
   "metadata": {
    "colab": {
     "base_uri": "https://localhost:8080/"
    },
    "id": "2dGkDYJfHlAz",
    "outputId": "3c9c2c3a-144b-403f-f5ba-13aaaac71e61"
   },
   "outputs": [
    {
     "name": "stdout",
     "output_type": "stream",
     "text": [
      "2.0 4.0 2.0 -1.0 7.0\n",
      "(139297, 14)\n",
      "1.0 3.0 2.0 -2.0 6.0\n",
      "(139262, 14)\n",
      "(133071, 14)\n",
      "(128499, 14)\n"
     ]
    }
   ],
   "source": [
    "# Habitaciones\n",
    "q25,q75 = np.percentile(df.Hab.values, [25,75])\n",
    "iqr = q75 - q25\n",
    "minimo = q25 - 1.5*iqr\n",
    "maximo = q75 + 1.5*iqr\n",
    "print(q25,q75,iqr, minimo, maximo)\n",
    "\n",
    "mascara_hab = df[ df['Hab'] < minimo ].index\n",
    "mascara_hab_2 = df[ df['Hab'] > maximo ].index\n",
    "\n",
    "df.drop(mascara_hab, inplace=True)\n",
    "df.drop(mascara_hab_2, inplace=True)\n",
    "print(df.shape)\n",
    "\n",
    "# Dormitorios\n",
    "q25,q75 = np.percentile(df.Dormit.values, [25,75])\n",
    "iqr = q75 - q25\n",
    "minimo = q25 - 1.5*iqr\n",
    "maximo = q75 + 1.5*iqr\n",
    "print(q25,q75,iqr, minimo, maximo)\n",
    "\n",
    "mascara_dor = df[ df['Dormit'] < minimo ].index\n",
    "mascara_dor_2 = df[ df['Dormit'] > maximo ].index\n",
    "\n",
    "df.drop(mascara_dor, inplace=True)\n",
    "df.drop(mascara_dor_2, inplace=True)\n",
    "print(df.shape)\n",
    "\n",
    "# Superficie total\n",
    "q25,q75 = np.percentile(df.Sup_Total.values, [25,75])\n",
    "iqr = q75 - q25\n",
    "minimo = q25 - 1.5*iqr\n",
    "maximo = q75 + 1.5*iqr\n",
    "# print(q25,q75,iqr, minimo, maximo)\n",
    "\n",
    "mascara_sup = df[ df['Sup_Total'] < minimo ].index\n",
    "mascara_sup_2 = df[ df['Sup_Total'] > maximo ].index\n",
    "\n",
    "df.drop(mascara_sup, inplace=True)\n",
    "df.drop(mascara_sup_2, inplace=True)\n",
    "print(df.shape)\n",
    "\n",
    "# Superficie cubierta\n",
    "q25,q75 = np.percentile(df.Sup_Cubierta.values, [25,75])\n",
    "iqr = q75 - q25\n",
    "minimo = q25 - 1.5*iqr\n",
    "maximo = q75 + 1.5*iqr\n",
    "# print(q25,q75,iqr, minimo, maximo)\n",
    "\n",
    "mascara_cub = df[ df['Sup_Cubierta'] < minimo ].index\n",
    "mascara_cub_2 = df[ df['Sup_Cubierta'] > maximo ].index\n",
    "\n",
    "df.drop(mascara_cub, inplace=True)\n",
    "df.drop(mascara_cub_2, inplace=True)\n",
    "print(df.shape)"
   ]
  },
  {
   "cell_type": "markdown",
   "metadata": {
    "id": "-JztKK1uHlA0"
   },
   "source": [
    "### 3. **Encoding**: Variables categóricas y numéricas"
   ]
  },
  {
   "cell_type": "markdown",
   "metadata": {
    "id": "tebSlyWpHlA0"
   },
   "source": [
    "El preprocesamiento de los datos mediante el **encoding** es una parte fundamental del proceso. Se trata de codificar las variables, de forma tal que el modelo que se utilice posteriormente, pueda beneficiarse sobre ello. Dado que los modelos 'entienden' mejor el lenguaje de los números, se reemplazarán los valores por éstos últimos. \n",
    "\n",
    "\n",
    "Se observará, en principio, cuáles son las columnas susceptibles de ser encodeadas."
   ]
  },
  {
   "cell_type": "code",
   "execution_count": 19,
   "metadata": {
    "colab": {
     "base_uri": "https://localhost:8080/"
    },
    "id": "hhL4P_UVHlA1",
    "outputId": "a164b7ab-87a2-46cd-c229-29a0a9b9c602"
   },
   "outputs": [
    {
     "name": "stdout",
     "output_type": "stream",
     "text": [
      "Pais ['Argentina']\n",
      "Region ['Capital Federal', 'Bs.As. G.B.A. Zona Sur', 'Bs.As. G.B.A. Zona Norte', 'Bs.As. G.B.A. Zona Oeste']\n",
      "Zona ['Boedo', 'Palermo', 'La Plata', 'Villa Crespo', 'Parque Patricios', 'Villa Pueyrredón', 'Pilar', 'Tigre', 'Abasto', 'Flores', 'Morón', 'Nuñez', 'Almagro', 'Belgrano', 'Floresta', 'Recoleta', 'Balvanera', 'Caballito', 'Chacarita', 'San Telmo', 'Colegiales', 'La Matanza', 'San Isidro', 'San Miguel', 'Villa Luro', 'Barrio Norte', 'Las Cañitas', 'San Nicolás', 'Villa Urquiza', 'Vicente López', 'Parque Centenario', 'General San Martín', 'Villa General Mitre', 'Lanús', 'Ituzaingó', 'Boca', 'Once', 'Retiro', 'Monserrat', 'Avellaneda', 'San Fernando', 'Puerto Madero', 'San Cristobal', 'Villa Ortuzar', 'Parque Chacabuco', 'Centro / Microcentro', 'Liniers', 'Coghlan', 'Paternal', 'Saavedra', 'Villa Santa Rita', 'Barracas', 'Villa Lugano', 'Constitución', 'Mataderos', 'Villa Devoto', 'Parque Avellaneda', 'Esteban Echeverría', 'Lomas de Zamora', 'Almirante Brown', 'Ezeiza', 'San Vicente', 'Berazategui', 'Quilmes', 'Malvinas Argentinas', 'José C Paz', 'Tres de Febrero', 'Moreno', 'Escobar', 'Monte Castro', 'Pompeya', 'Merlo', 'Congreso', 'Villa del Parque', 'General Rodríguez', 'Florencio Varela', 'Agronomía', 'Tribunales', 'Velez Sarsfield', 'Parque Chas', 'Presidente Perón', 'Villa Real', 'Versalles', 'Hurlingham', 'Marcos Paz', 'Villa Riachuelo', 'Cañuelas', 'Catalinas', 'Villa Soldati']\n",
      "Hab [2.0, 1.0, 3.0, 4.0, 5.0, 6.0, 7.0]\n",
      "Dormit [1.0, 2.0, 3.0, 4.0, 5.0, 0.0, 6.0]\n",
      "Baths [2.0, 1.0, 3.0, 4.0, 5.0, 6.0, 11.0, 7.0, 8.0, 10.0, 14.0, 12.0]\n",
      "Moneda ['USD']\n",
      "Tipo_prop ['PH', 'Departamento', 'Casa', 'Lote', 'Oficina', 'Casa de campo', 'Otro', 'Cochera', 'Local comercial', 'Depósito']\n",
      "Operacion ['Venta']\n",
      "--------------------------------------------\n"
     ]
    }
   ],
   "source": [
    "series = df[['Pais', 'Region', 'Zona', 'Hab', 'Dormit', 'Baths', 'Moneda', 'Tipo_prop', 'Operacion']]\n",
    "# print(series)\n",
    "\n",
    "for i in series:\n",
    "    val_unicos = df[i].unique().tolist()\n",
    "#     val_unicos = pd.DataFrame()\n",
    "    print(i, val_unicos)\n",
    "\n",
    "print('--------------------------------------------')\n",
    "# df.Pais.unique()"
   ]
  },
  {
   "cell_type": "markdown",
   "metadata": {
    "id": "ZJYA9a21HlA1"
   },
   "source": [
    "Observamos que las columnas **pais, región, zona, moneda, tipo de propiedad y tipo de operación**, podrán ser encodeadas por ser variables categóricas nominales. \n",
    "Por otro lado, las variables numéricas **habitaciones, dormitorios y baños** son variables de tipo numérica discreta, y se procederá a redondear los valores. \n",
    "\n",
    "Para luego poder trabajar con Regresión lineal y atributos polinómicos con el mismo dataframe, se realizará una copia del mismo, donde no se encodeará la variable Zona, dado que si se realiza mediante dummies, se corre el riesgo de que el modelo se confunda. También se intentó realizar la regresión con esta variable encodeada mediante One Hot Encoding y no dio buenos resultados. De manera tal que se eliminará de la copia.\n",
    "\n",
    "1. Variables nominales: Para las variables nominales, se usará la librería **Categorical Encoders**. Se realizará así para evitar que el modelo 'se confunda' e interprete que hay un orden o jerarquía entre los registros, lo cual, al tratarse de zonas geográficas y tipos de propiedad, no es el caso. Posteriormente se unirán los datasets creados al dataset original.\n"
   ]
  },
  {
   "cell_type": "code",
   "execution_count": 20,
   "metadata": {
    "colab": {
     "base_uri": "https://localhost:8080/"
    },
    "id": "o3kDtAlHHlA1",
    "outputId": "07abb7bf-b846-4425-f43a-36ab3bc14cbc"
   },
   "outputs": [
    {
     "name": "stdout",
     "output_type": "stream",
     "text": [
      "Requirement already satisfied: category_encoders in /Users/paulawoloszyn/opt/miniconda3/envs/datascience/lib/python3.8/site-packages (2.2.2)\n",
      "Requirement already satisfied: patsy>=0.5.1 in /Users/paulawoloszyn/opt/miniconda3/envs/datascience/lib/python3.8/site-packages (from category_encoders) (0.5.1)\n",
      "Requirement already satisfied: scipy>=1.0.0 in /Users/paulawoloszyn/opt/miniconda3/envs/datascience/lib/python3.8/site-packages (from category_encoders) (1.6.1)\n",
      "Requirement already satisfied: numpy>=1.14.0 in /Users/paulawoloszyn/opt/miniconda3/envs/datascience/lib/python3.8/site-packages (from category_encoders) (1.19.1)\n",
      "Requirement already satisfied: statsmodels>=0.9.0 in /Users/paulawoloszyn/opt/miniconda3/envs/datascience/lib/python3.8/site-packages (from category_encoders) (0.12.1)\n",
      "Requirement already satisfied: pandas>=0.21.1 in /Users/paulawoloszyn/opt/miniconda3/envs/datascience/lib/python3.8/site-packages (from category_encoders) (1.1.1)\n",
      "Requirement already satisfied: scikit-learn>=0.20.0 in /Users/paulawoloszyn/opt/miniconda3/envs/datascience/lib/python3.8/site-packages (from category_encoders) (0.23.2)\n",
      "Requirement already satisfied: pytz>=2017.2 in /Users/paulawoloszyn/opt/miniconda3/envs/datascience/lib/python3.8/site-packages (from pandas>=0.21.1->category_encoders) (2021.1)\n",
      "Requirement already satisfied: python-dateutil>=2.7.3 in /Users/paulawoloszyn/opt/miniconda3/envs/datascience/lib/python3.8/site-packages (from pandas>=0.21.1->category_encoders) (2.8.1)\n",
      "Requirement already satisfied: six in /Users/paulawoloszyn/opt/miniconda3/envs/datascience/lib/python3.8/site-packages (from patsy>=0.5.1->category_encoders) (1.15.0)\n",
      "Requirement already satisfied: joblib>=0.11 in /Users/paulawoloszyn/opt/miniconda3/envs/datascience/lib/python3.8/site-packages (from scikit-learn>=0.20.0->category_encoders) (1.0.1)\n",
      "Requirement already satisfied: threadpoolctl>=2.0.0 in /Users/paulawoloszyn/opt/miniconda3/envs/datascience/lib/python3.8/site-packages (from scikit-learn>=0.20.0->category_encoders) (2.1.0)\n"
     ]
    },
    {
     "name": "stderr",
     "output_type": "stream",
     "text": [
      "/Users/paulawoloszyn/opt/miniconda3/envs/datascience/lib/python3.8/site-packages/category_encoders/utils.py:21: FutureWarning: is_categorical is deprecated and will be removed in a future version.  Use is_categorical_dtype instead\n",
      "  elif pd.api.types.is_categorical(cols):\n"
     ]
    },
    {
     "name": "stdout",
     "output_type": "stream",
     "text": [
      "(128499, 89) (128499, 4) (128499, 10)\n"
     ]
    },
    {
     "name": "stderr",
     "output_type": "stream",
     "text": [
      "/Users/paulawoloszyn/opt/miniconda3/envs/datascience/lib/python3.8/site-packages/category_encoders/utils.py:21: FutureWarning: is_categorical is deprecated and will be removed in a future version.  Use is_categorical_dtype instead\n",
      "  elif pd.api.types.is_categorical(cols):\n",
      "/Users/paulawoloszyn/opt/miniconda3/envs/datascience/lib/python3.8/site-packages/category_encoders/utils.py:21: FutureWarning: is_categorical is deprecated and will be removed in a future version.  Use is_categorical_dtype instead\n",
      "  elif pd.api.types.is_categorical(cols):\n"
     ]
    }
   ],
   "source": [
    "!pip install category_encoders\n",
    "import category_encoders as ce\n",
    "masc_zona = df.Zona\n",
    "masc_region = df.Region\n",
    "masc_tipoprop = df.Tipo_prop\n",
    "\n",
    "# OHE para ZONAS \n",
    "ce_ohe = ce.OneHotEncoder(use_cat_names = True)\n",
    "ce_dummies_z = ce_ohe.fit_transform(masc_zona)\n",
    "\n",
    "# OHE para REGIONES \n",
    "ce_ohe = ce.OneHotEncoder(use_cat_names = True)\n",
    "ce_dummies_r = ce_ohe.fit_transform(masc_region)\n",
    "\n",
    "# OHE para TIPO DE PROPIEDAD \n",
    "ce_ohe = ce.OneHotEncoder(use_cat_names = True)\n",
    "ce_dummies_t = ce_ohe.fit_transform(masc_tipoprop)\n",
    "\n",
    "print(ce_dummies_z.shape,\n",
    "ce_dummies_r.shape,\n",
    "ce_dummies_t.shape)"
   ]
  },
  {
   "cell_type": "code",
   "execution_count": 21,
   "metadata": {
    "colab": {
     "base_uri": "https://localhost:8080/",
     "height": 776
    },
    "id": "vacpY8l9HlA1",
    "outputId": "801e5667-10f4-4d8e-b309-defe7011b2e7"
   },
   "outputs": [
    {
     "data": {
      "text/html": [
       "<div>\n",
       "<style scoped>\n",
       "    .dataframe tbody tr th:only-of-type {\n",
       "        vertical-align: middle;\n",
       "    }\n",
       "\n",
       "    .dataframe tbody tr th {\n",
       "        vertical-align: top;\n",
       "    }\n",
       "\n",
       "    .dataframe thead th {\n",
       "        text-align: right;\n",
       "    }\n",
       "</style>\n",
       "<table border=\"1\" class=\"dataframe\">\n",
       "  <thead>\n",
       "    <tr style=\"text-align: right;\">\n",
       "      <th></th>\n",
       "      <th>Pais</th>\n",
       "      <th>Region</th>\n",
       "      <th>Zona</th>\n",
       "      <th>Hab</th>\n",
       "      <th>Dormit</th>\n",
       "      <th>Baths</th>\n",
       "      <th>Sup_Total</th>\n",
       "      <th>Sup_Cubierta</th>\n",
       "      <th>Precio</th>\n",
       "      <th>Moneda</th>\n",
       "      <th>Titulo</th>\n",
       "      <th>Descripcion</th>\n",
       "      <th>Tipo_prop</th>\n",
       "      <th>Operacion</th>\n",
       "    </tr>\n",
       "  </thead>\n",
       "  <tbody>\n",
       "    <tr>\n",
       "      <th>1</th>\n",
       "      <td>1</td>\n",
       "      <td>Capital Federal</td>\n",
       "      <td>Boedo</td>\n",
       "      <td>2.0</td>\n",
       "      <td>1.0</td>\n",
       "      <td>2.0</td>\n",
       "      <td>70.0</td>\n",
       "      <td>58.0</td>\n",
       "      <td>159000.0</td>\n",
       "      <td>1</td>\n",
       "      <td>Espectacular PH reciclado en Boedo sin expensas.</td>\n",
       "      <td>PH reciclado en Boedo a una cuadra de la plaz...</td>\n",
       "      <td>PH</td>\n",
       "      <td>1</td>\n",
       "    </tr>\n",
       "    <tr>\n",
       "      <th>2</th>\n",
       "      <td>1</td>\n",
       "      <td>Capital Federal</td>\n",
       "      <td>Palermo</td>\n",
       "      <td>2.0</td>\n",
       "      <td>1.0</td>\n",
       "      <td>1.0</td>\n",
       "      <td>45.0</td>\n",
       "      <td>45.0</td>\n",
       "      <td>125000.0</td>\n",
       "      <td>1</td>\n",
       "      <td>Depto.tipo casa de 2 ambientes en Venta en Pal...</td>\n",
       "      <td>2 ambienets amplio , excelente estado , patio ...</td>\n",
       "      <td>PH</td>\n",
       "      <td>1</td>\n",
       "    </tr>\n",
       "    <tr>\n",
       "      <th>3</th>\n",
       "      <td>1</td>\n",
       "      <td>Capital Federal</td>\n",
       "      <td>Palermo</td>\n",
       "      <td>2.0</td>\n",
       "      <td>1.0</td>\n",
       "      <td>1.0</td>\n",
       "      <td>85.0</td>\n",
       "      <td>50.0</td>\n",
       "      <td>295000.0</td>\n",
       "      <td>1</td>\n",
       "      <td>COSTA RICA 5800 / PALERMO HOLLYWOOD / VENTA PH...</td>\n",
       "      <td>HERMOSO PH EN PALERMO!!!2 AMBIENTES TOTALMENTE...</td>\n",
       "      <td>PH</td>\n",
       "      <td>1</td>\n",
       "    </tr>\n",
       "    <tr>\n",
       "      <th>4</th>\n",
       "      <td>1</td>\n",
       "      <td>Bs.As. G.B.A. Zona Sur</td>\n",
       "      <td>La Plata</td>\n",
       "      <td>2.0</td>\n",
       "      <td>1.0</td>\n",
       "      <td>1.0</td>\n",
       "      <td>50.0</td>\n",
       "      <td>35.0</td>\n",
       "      <td>40000.0</td>\n",
       "      <td>1</td>\n",
       "      <td>58 entre 1 y 2  Venta de departamento en ph.1 ...</td>\n",
       "      <td>58 entre 1 y 2  Venta de departamento en PH. P...</td>\n",
       "      <td>PH</td>\n",
       "      <td>1</td>\n",
       "    </tr>\n",
       "    <tr>\n",
       "      <th>5</th>\n",
       "      <td>1</td>\n",
       "      <td>Capital Federal</td>\n",
       "      <td>Villa Crespo</td>\n",
       "      <td>2.0</td>\n",
       "      <td>1.0</td>\n",
       "      <td>1.0</td>\n",
       "      <td>56.0</td>\n",
       "      <td>56.0</td>\n",
       "      <td>150000.0</td>\n",
       "      <td>1</td>\n",
       "      <td>Depto.tipo casa de 2 ambientes en Venta en Vil...</td>\n",
       "      <td>Excelente ph solo 2 unidades, no paga expensas...</td>\n",
       "      <td>PH</td>\n",
       "      <td>1</td>\n",
       "    </tr>\n",
       "    <tr>\n",
       "      <th>...</th>\n",
       "      <td>...</td>\n",
       "      <td>...</td>\n",
       "      <td>...</td>\n",
       "      <td>...</td>\n",
       "      <td>...</td>\n",
       "      <td>...</td>\n",
       "      <td>...</td>\n",
       "      <td>...</td>\n",
       "      <td>...</td>\n",
       "      <td>...</td>\n",
       "      <td>...</td>\n",
       "      <td>...</td>\n",
       "      <td>...</td>\n",
       "      <td>...</td>\n",
       "    </tr>\n",
       "    <tr>\n",
       "      <th>146655</th>\n",
       "      <td>1</td>\n",
       "      <td>Bs.As. G.B.A. Zona Sur</td>\n",
       "      <td>Berazategui</td>\n",
       "      <td>2.0</td>\n",
       "      <td>1.0</td>\n",
       "      <td>1.0</td>\n",
       "      <td>54.0</td>\n",
       "      <td>48.0</td>\n",
       "      <td>165000.0</td>\n",
       "      <td>1</td>\n",
       "      <td>Departamento en Venta en Barrio Privado Barran...</td>\n",
       "      <td>Departamento de 2 ambientesCocina con alacena ...</td>\n",
       "      <td>Departamento</td>\n",
       "      <td>1</td>\n",
       "    </tr>\n",
       "    <tr>\n",
       "      <th>146656</th>\n",
       "      <td>1</td>\n",
       "      <td>Bs.As. G.B.A. Zona Norte</td>\n",
       "      <td>Pilar</td>\n",
       "      <td>4.0</td>\n",
       "      <td>3.0</td>\n",
       "      <td>2.0</td>\n",
       "      <td>164.0</td>\n",
       "      <td>90.0</td>\n",
       "      <td>130000.0</td>\n",
       "      <td>1</td>\n",
       "      <td>Venta departamentos tres dormitorios jardín co...</td>\n",
       "      <td>Muy buen duplex a estrenar en dos plantas más ...</td>\n",
       "      <td>Departamento</td>\n",
       "      <td>1</td>\n",
       "    </tr>\n",
       "    <tr>\n",
       "      <th>146657</th>\n",
       "      <td>1</td>\n",
       "      <td>Bs.As. G.B.A. Zona Norte</td>\n",
       "      <td>Pilar</td>\n",
       "      <td>1.0</td>\n",
       "      <td>1.0</td>\n",
       "      <td>1.0</td>\n",
       "      <td>50.0</td>\n",
       "      <td>35.0</td>\n",
       "      <td>73000.0</td>\n",
       "      <td>1</td>\n",
       "      <td>Venta departamento de un ambiente Manzanares C...</td>\n",
       "      <td>En los Condominios de Campo Manzanares Chico, ...</td>\n",
       "      <td>Departamento</td>\n",
       "      <td>1</td>\n",
       "    </tr>\n",
       "    <tr>\n",
       "      <th>146658</th>\n",
       "      <td>1</td>\n",
       "      <td>Bs.As. G.B.A. Zona Norte</td>\n",
       "      <td>Pilar</td>\n",
       "      <td>2.0</td>\n",
       "      <td>1.0</td>\n",
       "      <td>1.0</td>\n",
       "      <td>38.0</td>\n",
       "      <td>38.0</td>\n",
       "      <td>68000.0</td>\n",
       "      <td>1</td>\n",
       "      <td>Departamento en Venta. Manzanares chico.</td>\n",
       "      <td>Broker: Maria 11Departamento de dos ambientes ...</td>\n",
       "      <td>Departamento</td>\n",
       "      <td>1</td>\n",
       "    </tr>\n",
       "    <tr>\n",
       "      <th>146659</th>\n",
       "      <td>1</td>\n",
       "      <td>Bs.As. G.B.A. Zona Norte</td>\n",
       "      <td>Pilar</td>\n",
       "      <td>3.0</td>\n",
       "      <td>2.0</td>\n",
       "      <td>1.0</td>\n",
       "      <td>75.0</td>\n",
       "      <td>75.0</td>\n",
       "      <td>98000.0</td>\n",
       "      <td>1</td>\n",
       "      <td>Departamento en venta en Manzanares Chico</td>\n",
       "      <td>Departamento en el Barrio Manzanares Chico , e...</td>\n",
       "      <td>Departamento</td>\n",
       "      <td>1</td>\n",
       "    </tr>\n",
       "  </tbody>\n",
       "</table>\n",
       "<p>128499 rows × 14 columns</p>\n",
       "</div>"
      ],
      "text/plain": [
       "        Pais                    Region          Zona  Hab  Dormit  Baths  \\\n",
       "1          1           Capital Federal         Boedo  2.0     1.0    2.0   \n",
       "2          1           Capital Federal       Palermo  2.0     1.0    1.0   \n",
       "3          1           Capital Federal       Palermo  2.0     1.0    1.0   \n",
       "4          1    Bs.As. G.B.A. Zona Sur      La Plata  2.0     1.0    1.0   \n",
       "5          1           Capital Federal  Villa Crespo  2.0     1.0    1.0   \n",
       "...      ...                       ...           ...  ...     ...    ...   \n",
       "146655     1    Bs.As. G.B.A. Zona Sur   Berazategui  2.0     1.0    1.0   \n",
       "146656     1  Bs.As. G.B.A. Zona Norte         Pilar  4.0     3.0    2.0   \n",
       "146657     1  Bs.As. G.B.A. Zona Norte         Pilar  1.0     1.0    1.0   \n",
       "146658     1  Bs.As. G.B.A. Zona Norte         Pilar  2.0     1.0    1.0   \n",
       "146659     1  Bs.As. G.B.A. Zona Norte         Pilar  3.0     2.0    1.0   \n",
       "\n",
       "        Sup_Total  Sup_Cubierta    Precio  Moneda  \\\n",
       "1            70.0          58.0  159000.0       1   \n",
       "2            45.0          45.0  125000.0       1   \n",
       "3            85.0          50.0  295000.0       1   \n",
       "4            50.0          35.0   40000.0       1   \n",
       "5            56.0          56.0  150000.0       1   \n",
       "...           ...           ...       ...     ...   \n",
       "146655       54.0          48.0  165000.0       1   \n",
       "146656      164.0          90.0  130000.0       1   \n",
       "146657       50.0          35.0   73000.0       1   \n",
       "146658       38.0          38.0   68000.0       1   \n",
       "146659       75.0          75.0   98000.0       1   \n",
       "\n",
       "                                                   Titulo  \\\n",
       "1        Espectacular PH reciclado en Boedo sin expensas.   \n",
       "2       Depto.tipo casa de 2 ambientes en Venta en Pal...   \n",
       "3       COSTA RICA 5800 / PALERMO HOLLYWOOD / VENTA PH...   \n",
       "4       58 entre 1 y 2  Venta de departamento en ph.1 ...   \n",
       "5       Depto.tipo casa de 2 ambientes en Venta en Vil...   \n",
       "...                                                   ...   \n",
       "146655  Departamento en Venta en Barrio Privado Barran...   \n",
       "146656  Venta departamentos tres dormitorios jardín co...   \n",
       "146657  Venta departamento de un ambiente Manzanares C...   \n",
       "146658           Departamento en Venta. Manzanares chico.   \n",
       "146659          Departamento en venta en Manzanares Chico   \n",
       "\n",
       "                                              Descripcion     Tipo_prop  \\\n",
       "1        PH reciclado en Boedo a una cuadra de la plaz...            PH   \n",
       "2       2 ambienets amplio , excelente estado , patio ...            PH   \n",
       "3       HERMOSO PH EN PALERMO!!!2 AMBIENTES TOTALMENTE...            PH   \n",
       "4       58 entre 1 y 2  Venta de departamento en PH. P...            PH   \n",
       "5       Excelente ph solo 2 unidades, no paga expensas...            PH   \n",
       "...                                                   ...           ...   \n",
       "146655  Departamento de 2 ambientesCocina con alacena ...  Departamento   \n",
       "146656  Muy buen duplex a estrenar en dos plantas más ...  Departamento   \n",
       "146657  En los Condominios de Campo Manzanares Chico, ...  Departamento   \n",
       "146658  Broker: Maria 11Departamento de dos ambientes ...  Departamento   \n",
       "146659  Departamento en el Barrio Manzanares Chico , e...  Departamento   \n",
       "\n",
       "        Operacion  \n",
       "1               1  \n",
       "2               1  \n",
       "3               1  \n",
       "4               1  \n",
       "5               1  \n",
       "...           ...  \n",
       "146655          1  \n",
       "146656          1  \n",
       "146657          1  \n",
       "146658          1  \n",
       "146659          1  \n",
       "\n",
       "[128499 rows x 14 columns]"
      ]
     },
     "execution_count": 21,
     "metadata": {},
     "output_type": "execute_result"
    }
   ],
   "source": [
    "df.replace({\"Argentina\": 1, 'USD': 1, 'Venta': 1}, inplace=True)\n",
    "\n",
    "# Se realiza una copia del DF para luego poder trabajarlo en la Regresión Lineal con atributos polinómicos. \n",
    "df_sin_hoe = df.copy()\n",
    "df_sin_hoe"
   ]
  },
  {
   "cell_type": "code",
   "execution_count": 22,
   "metadata": {
    "id": "N7oS8zPCHlA2"
   },
   "outputs": [],
   "source": [
    "df = df.join(ce_dummies_r)\n",
    "df = df.join(ce_dummies_z)\n",
    "df = df.join(ce_dummies_t)\n",
    "\n",
    "df_sin_hoe = df_sin_hoe.join(ce_dummies_r)\n",
    "df_sin_hoe = df_sin_hoe.join(ce_dummies_t)\n",
    "\n",
    "df.drop(['Region', 'Zona', 'Tipo_prop'], axis=1, inplace=True)\n",
    "df_sin_hoe.drop(['Region', 'Zona', 'Tipo_prop'], axis=1, inplace=True)\n"
   ]
  },
  {
   "cell_type": "code",
   "execution_count": 23,
   "metadata": {
    "colab": {
     "base_uri": "https://localhost:8080/"
    },
    "id": "t3_-cb8xHlA2",
    "outputId": "e75beea2-82f0-43f1-9e0a-d4c1c40c0067"
   },
   "outputs": [
    {
     "data": {
      "text/plain": [
       "(128499, 25)"
      ]
     },
     "execution_count": 23,
     "metadata": {},
     "output_type": "execute_result"
    }
   ],
   "source": [
    "df_sin_hoe.shape"
   ]
  },
  {
   "cell_type": "markdown",
   "metadata": {
    "id": "Js-_VFOaHlA2"
   },
   "source": [
    "2. Variables numéricas discretas."
   ]
  },
  {
   "cell_type": "code",
   "execution_count": 24,
   "metadata": {
    "id": "QtstWrxQHlA3"
   },
   "outputs": [],
   "source": [
    "df.Hab = df.Hab.astype(int).round()\n",
    "df.Dormit = df.Hab.astype(int).round()\n",
    "df.Baths = df.Hab.astype(int).round()\n",
    "# df.head()\n",
    "\n",
    "df_sin_hoe.Hab = df_sin_hoe.Hab.astype(int).round()\n",
    "df_sin_hoe.Dormit = df_sin_hoe.Hab.astype(int).round()\n",
    "df_sin_hoe.Baths = df_sin_hoe.Hab.astype(int).round()"
   ]
  },
  {
   "cell_type": "markdown",
   "metadata": {
    "id": "r3SVcQAQHlA3"
   },
   "source": [
    "Ya con un dataset encodeado y limpio de valores faltantes y outliers, procederemos a entrenar un modelo que sirva de `benchmark`. En este caso se utilizará un `árbol de decisión`."
   ]
  },
  {
   "cell_type": "code",
   "execution_count": 25,
   "metadata": {
    "id": "AnjgekG7HlA3"
   },
   "outputs": [],
   "source": [
    "from sklearn.model_selection import train_test_split\n",
    "\n",
    "from sklearn.datasets import load_diabetes\n",
    "from sklearn.model_selection import cross_val_score\n",
    "from sklearn.tree import DecisionTreeRegressor\n",
    "from sklearn import metrics"
   ]
  },
  {
   "cell_type": "code",
   "execution_count": 26,
   "metadata": {
    "id": "SJaw5JvbHlA3"
   },
   "outputs": [],
   "source": [
    "X = df.drop(['Precio', 'Descripcion', 'Titulo'], axis=1)\n",
    "y = df.Precio"
   ]
  },
  {
   "cell_type": "code",
   "execution_count": 27,
   "metadata": {
    "colab": {
     "base_uri": "https://localhost:8080/"
    },
    "id": "3c9WkJF0HlA3",
    "outputId": "c56e0901-798b-4df7-c115-fb4ce7243ec1"
   },
   "outputs": [
    {
     "data": {
      "text/plain": [
       "DecisionTreeRegressor(random_state=0)"
      ]
     },
     "execution_count": 27,
     "metadata": {},
     "output_type": "execute_result"
    }
   ],
   "source": [
    "X_train, X_test, y_train, y_test = train_test_split(X, y, test_size=0.33, random_state=42)\n",
    "\n",
    "regressor = DecisionTreeRegressor(random_state=0)\n",
    "regressor.fit(X_train, y_train)"
   ]
  },
  {
   "cell_type": "code",
   "execution_count": 28,
   "metadata": {
    "id": "RrxXJsXZHlA3"
   },
   "outputs": [],
   "source": [
    "y_pred = regressor.predict(X_test)"
   ]
  },
  {
   "cell_type": "code",
   "execution_count": 29,
   "metadata": {
    "colab": {
     "base_uri": "https://localhost:8080/"
    },
    "id": "0SvFjLByHlA4",
    "outputId": "7ca25d9d-0db8-457b-c1df-37e592153ce6"
   },
   "outputs": [
    {
     "name": "stdout",
     "output_type": "stream",
     "text": [
      "Mean Average Error en Test: 35535.36153852897 Resultado anterior: 53524.83299147003\n",
      "Raíz del error cuadrático medio en Test: 93550.34085178842 Resultado anterior: 146092.75848556007\n"
     ]
    }
   ],
   "source": [
    "mae_test = metrics.mean_absolute_error(y_test, y_pred)\n",
    "print(f'Mean Average Error en Test: {mae_test}', 'Resultado anterior: 53524.83299147003')\n",
    "\n",
    "rmse_test = np.sqrt(mean_squared_error(y_test, y_pred))\n",
    "print(f'Raíz del error cuadrático medio en Test: {rmse_test}', 'Resultado anterior: 146092.75848556007')"
   ]
  },
  {
   "cell_type": "code",
   "execution_count": 30,
   "metadata": {
    "colab": {
     "base_uri": "https://localhost:8080/"
    },
    "id": "puBp7aYzHlA4",
    "outputId": "85d333d3-590b-451b-ce8c-0d7e198c883a"
   },
   "outputs": [
    {
     "name": "stdout",
     "output_type": "stream",
     "text": [
      "0.5650043138141904\n",
      "0.6524418874602811\n"
     ]
    }
   ],
   "source": [
    "from sklearn.model_selection import cross_val_score\n",
    "\n",
    "score_tree_train = cross_val_score(regressor, X_train, y_train).mean()\n",
    "score_tree_test = cross_val_score(regressor, X_test, y_test).mean()\n",
    "print(score_tree_train)\n",
    "print(score_tree_test)"
   ]
  },
  {
   "cell_type": "markdown",
   "metadata": {
    "id": "mYhIORreHlA4"
   },
   "source": [
    "### Conclusión: Tanto el MAE como el RMSE se vieron disminuidos en casi la midad."
   ]
  },
  {
   "cell_type": "markdown",
   "metadata": {
    "id": "l8TZWwS5HlA4"
   },
   "source": [
    "## <font color=#0FDAB1>PARTE B - Modelos Avanzados</font>"
   ]
  },
  {
   "cell_type": "markdown",
   "metadata": {
    "id": "MO4znOdcHlA4"
   },
   "source": [
    "Para esta sección, se utilizarán dos modelos avanzados: uno relacionado al `bagging (Random Forest)` y también una `Regresión lineal con atributos polinómicos`. Los resultados se compararán con los obtenidos anteriormente, y tambien con los resultados del proyecto 1."
   ]
  },
  {
   "cell_type": "markdown",
   "metadata": {
    "id": "uH20ibwYHlA4"
   },
   "source": [
    "#### 1. Bagging: Random Forest"
   ]
  },
  {
   "cell_type": "code",
   "execution_count": 31,
   "metadata": {
    "id": "8pZnzEwCHlA5"
   },
   "outputs": [],
   "source": [
    "df_r = df.copy()\n",
    "# df_r"
   ]
  },
  {
   "cell_type": "code",
   "execution_count": 32,
   "metadata": {
    "id": "WUxC8TYdHlA5"
   },
   "outputs": [],
   "source": [
    "from sklearn.ensemble import RandomForestRegressor\n",
    "from sklearn.model_selection import cross_val_score\n",
    "\n",
    "# Seleccionamos features y target.\n",
    "X = df_r.drop(['Precio', 'Descripcion', 'Titulo'], axis=1)\n",
    "y = df_r.Precio\n",
    "\n",
    "# Instanciamos el modelo.\n",
    "forest = RandomForestRegressor(oob_score=True)\n",
    "\n",
    "# Separamos los datos en train y test.\n",
    "X_train, X_test, y_train, y_test = train_test_split(X, y, test_size=0.33, random_state=42)\n",
    "\n",
    "# Fiteamos y predecimos sobre el conjunto test.\n",
    "forest.fit(X_train, y_train)\n",
    "y_pred_t = forest.predict(X_train)\n",
    "y_pred_r = forest.predict(X_test)"
   ]
  },
  {
   "cell_type": "code",
   "execution_count": 33,
   "metadata": {
    "colab": {
     "base_uri": "https://localhost:8080/"
    },
    "id": "-R7oEGy0HlA5",
    "outputId": "87130189-f15c-4ebb-ace9-312f6d38118d"
   },
   "outputs": [
    {
     "name": "stdout",
     "output_type": "stream",
     "text": [
      "Mean Average Error en Test: 33871.79780586296 Resultado anterior: 35535.36153852897\n",
      "Raíz del error cuadrático medio en Test: 87340.5837257878 Resultado anterior: 93550.34085178842\n"
     ]
    }
   ],
   "source": [
    "# Calculo del error y comparación con un solo árbol de decisión.\n",
    "mae_test_r = metrics.mean_absolute_error(y_test, y_pred_r)\n",
    "print(f'Mean Average Error en Test: {mae_test_r}', f'Resultado anterior: {mae_test}')\n",
    "\n",
    "rmse_test_r = np.sqrt(mean_squared_error(y_test, y_pred_r))\n",
    "print(f'Raíz del error cuadrático medio en Test: {rmse_test_r}', f'Resultado anterior: {rmse_test}')"
   ]
  },
  {
   "cell_type": "code",
   "execution_count": 34,
   "metadata": {
    "id": "B1c0k5yrHlA5"
   },
   "outputs": [],
   "source": [
    "scores_train_r = cross_val_score(forest, X_train, y_train)\n",
    "scrores_test_r = cross_val_score(forest, X_test, y_test)"
   ]
  },
  {
   "cell_type": "code",
   "execution_count": 35,
   "metadata": {
    "colab": {
     "base_uri": "https://localhost:8080/"
    },
    "id": "ebpeLhFpHlA5",
    "outputId": "07ef798a-9b82-49bf-e9e4-eb40fad9b1f9"
   },
   "outputs": [
    {
     "name": "stdout",
     "output_type": "stream",
     "text": [
      "0.60 promedio de score en train y 0.73 en test\n"
     ]
    }
   ],
   "source": [
    "print(\"%0.2f promedio de score en train y %0.2f en test\" % (scores_train_r.mean(), scrores_test_r.mean()))"
   ]
  },
  {
   "cell_type": "markdown",
   "metadata": {
    "id": "8hb_7f8uHlA5"
   },
   "source": [
    "Con `Random Forest` tenemos mejores resultados que con un sólo árbol de decisión."
   ]
  },
  {
   "cell_type": "markdown",
   "metadata": {
    "id": "PJcmoY-pHlA5"
   },
   "source": [
    "#### 2. Linear Regression"
   ]
  },
  {
   "cell_type": "markdown",
   "metadata": {
    "id": "Q52BU06FHlA6"
   },
   "source": [
    "En este caso, se entrenará una regresión lineal tanto con el dataframe sin zonas, como con ellas. A su vez, se comparará el rendimiento con los hiperparámetros por defecto como con atributos polinomiales. "
   ]
  },
  {
   "cell_type": "code",
   "execution_count": 36,
   "metadata": {
    "colab": {
     "base_uri": "https://localhost:8080/"
    },
    "id": "KAqrCxzZHlA6",
    "outputId": "7717e7c1-3ee7-4583-aec4-304e51f92171"
   },
   "outputs": [
    {
     "name": "stdout",
     "output_type": "stream",
     "text": [
      "Raíz del error cuadrático medio en Test: 134832.9562746056\n"
     ]
    }
   ],
   "source": [
    "# Linear Regression con dataframe sin zonas.\n",
    "from sklearn.linear_model import LinearRegression\n",
    "\n",
    "reg_1 = LinearRegression()\n",
    "\n",
    "X = df_sin_hoe.drop(['Precio', 'Descripcion', 'Titulo'], axis=1)\n",
    "y = df_sin_hoe.Precio\n",
    "\n",
    "X_train, X_test, y_train, y_test = train_test_split(X, y, test_size=0.33, random_state=42)\n",
    "reg_1.fit(X_train, y_train)\n",
    "\n",
    "y_test_pred_1 = reg_1.predict(X_test)\n",
    "\n",
    "rmse_test_l = np.sqrt(mean_squared_error(y_test, y_test_pred_1))\n",
    "print(f'Raíz del error cuadrático medio en Test: {rmse_test_l}')"
   ]
  },
  {
   "cell_type": "code",
   "execution_count": 37,
   "metadata": {
    "colab": {
     "base_uri": "https://localhost:8080/"
    },
    "id": "tnZRWt6THlA6",
    "outputId": "b98f0c8b-1d89-401e-cc9e-d7651cf93222"
   },
   "outputs": [
    {
     "name": "stdout",
     "output_type": "stream",
     "text": [
      "Raíz del error cuadrático medio en Test: 117825.71046343763\n",
      "0.53 promedio de accuracy en test\n"
     ]
    }
   ],
   "source": [
    "# Linear Regression con dataframe con zonas.\n",
    "from sklearn.linear_model import LinearRegression\n",
    "\n",
    "reg_1 = LinearRegression()\n",
    "\n",
    "X = df.drop(['Precio', 'Descripcion', 'Titulo'], axis=1)\n",
    "y = df.Precio\n",
    "\n",
    "X_train, X_test, y_train, y_test = train_test_split(X, y, test_size=0.33, random_state=42)\n",
    "reg_1.fit(X_train, y_train)\n",
    "\n",
    "y_test_pred_1 = reg_1.predict(X_test)\n",
    "\n",
    "rmse_test_l = np.sqrt(mean_squared_error(y_test, y_test_pred_1))\n",
    "print(f'Raíz del error cuadrático medio en Test: {rmse_test_l}')\n",
    "\n",
    "scores_test_rl = cross_val_score(reg_1, X_test, y_test)\n",
    "print(\"%0.2f promedio de accuracy en test\" % (scores_test_rl.mean()))"
   ]
  },
  {
   "cell_type": "markdown",
   "metadata": {
    "id": "aJBeIalmHlA6"
   },
   "source": [
    "A continuación y mediante un ciclo for se evaluará el rendimiento de una Regresión Lineal con polinomios de grado 2, 3 y 4. \n",
    "\n",
    "Para hacer más sencillo el workflow, se encuentra comentado, y los resultados impresos a continuación."
   ]
  },
  {
   "cell_type": "code",
   "execution_count": 38,
   "metadata": {
    "id": "M405NdHTHlA6"
   },
   "outputs": [],
   "source": [
    "from sklearn.preprocessing import PolynomialFeatures\n",
    "\n",
    "# for i in range(2,5):\n",
    "#     X = df_sin_hoe.drop(['Precio', 'Descripcion', 'Titulo'], axis=1)\n",
    "#     y = df_sin_hoe.Precio\n",
    "\n",
    "#     X_train, X_test, y_train, y_test = train_test_split(X, y, test_size=0.33, random_state=42)\n",
    "\n",
    "#     poly = PolynomialFeatures(degree=i)\n",
    "#     X_train_new = poly.fit_transform(X_train)\n",
    "#     X_test_new = poly.transform(X_test)\n",
    "\n",
    "#     print(X_train_new.shape, X_test_new.shape)\n",
    "    \n",
    "#     reg_2 = LinearRegression()\n",
    "#     reg_2.fit(X_train_new, y_train)\n",
    "#     # print(reg_2.coef_, reg_2.intercept_)\n",
    "#     y_train_pred_2 = reg_2.predict(X_train_new)\n",
    "#     y_test_pred_2 = reg_2.predict(X_test_new)\n",
    "\n",
    "#     scores_test_poly = cross_val_score(reg_2, X_test_new, y_test)\n",
    "#     print(\"%0.2f promedio de accuracy en test\" % (scores_test_poly.mean()))\n",
    "    \n",
    "#     rmse_test_l_2 = np.sqrt(mean_squared_error(y_test, y_test_pred_2))\n",
    "#     print(f'Raíz del error cuadrático medio en Test: {rmse_test_l_2}', f'Resultado anterior: {rmse_test_l}')"
   ]
  },
  {
   "cell_type": "markdown",
   "metadata": {
    "id": "_0xaCeFOHlA6"
   },
   "source": [
    "#### Resultados parciales - Regresión lineal con atributos polinómicos:\n",
    "\n",
    "`Polinomio grado 2 shape en train y test: (86094, 276) (42405, 276)`\n",
    "- Raíz del error cuadrático medio en Test: 145809966274.51233 \n",
    "\n",
    "Resultado anterior (regresión lineal sin zonas - peor resultado): 134832.9562746056\n",
    "\n",
    "`Polinomio grado 3 shape en train y test: (86094, 2300) (42405, 2300)`\n",
    "- Raíz del error cuadrático medio en Test: 122619799.98843193 \n",
    "- Resultado anterior (regresión lineal sin zonas - peor resultado): 134832.9562746056\n",
    "\n",
    "`Polinomio grado 4 shape en train y test: (86094, 14950) (42405, 14950)`\n",
    "- Raíz del error cuadrático medio en Test: 16826039252.07844 \n",
    "- Resultado anterior (regresión lineal sin zonas - peor resultado): 134832.9562746056"
   ]
  },
  {
   "cell_type": "markdown",
   "metadata": {
    "id": "9Y-t59dSHlA7"
   },
   "source": [
    "A continuación se observará si se puede mejorar el RMSE con la regularización de Ridge y Lasso, utilizando un polinomio de grado 3, con el que se obtuvieron mejores resultados."
   ]
  },
  {
   "cell_type": "code",
   "execution_count": 39,
   "metadata": {
    "id": "ZBoAkuhdHlA7"
   },
   "outputs": [],
   "source": [
    "from sklearn.linear_model import Ridge, Lasso"
   ]
  },
  {
   "cell_type": "code",
   "execution_count": 40,
   "metadata": {
    "id": "Gcoi4Cg9HlA7"
   },
   "outputs": [],
   "source": [
    "# for alpha in [10, 5, 1, 0.5, 0.1 ,0.01, 0.005, 0.001]:\n",
    "# #for alpha in [0.001]:\n",
    "\n",
    "#     X = df_sin_hoe.drop(['Precio', 'Descripcion', 'Titulo'], axis=1)\n",
    "#     y = df_sin_hoe.Precio\n",
    "\n",
    "#     X_train, X_test, y_train, y_test = train_test_split(X, y, test_size=0.33, random_state=42)\n",
    "\n",
    "#     poly = PolynomialFeatures(degree=3)\n",
    "#     X_train_new = poly.fit_transform(X_train)\n",
    "#     X_test_new = poly.transform(X_test)\n",
    "\n",
    "#     reg_ridge = Ridge(alpha= alpha)\n",
    "#     reg_ridge.fit(X_train_new,y_train)\n",
    "    \n",
    "# #     y_train_pred_ridge = reg_ridge.predict(X_train_new)\n",
    "#     y_test_pred_ridge = reg_ridge.predict(X_test_new)\n",
    "    \n",
    "#     rmse_test_l_3 = np.sqrt(mean_squared_error(y_test, y_test_pred_ridge))\n",
    "#     print(f'Alpha : {alpha}')\n",
    "#     print(f'Raíz del error cuadrático medio en Test: {rmse_test_l_3}', f'Resultado anterior: {rmse_test_l}')"
   ]
  },
  {
   "cell_type": "code",
   "execution_count": 41,
   "metadata": {
    "id": "ux-C9ovnHlA7"
   },
   "outputs": [],
   "source": [
    "# for alpha in [10, 5, 1, 0.5, 0.1 ,0.01, 0.005, 0.001]:\n",
    "# #for alpha in [0.001]:\n",
    "\n",
    "#     X = df_sin_hoe.drop(['Precio', 'Descripcion', 'Titulo'], axis=1)\n",
    "#     y = df_sin_hoe.Precio\n",
    "\n",
    "#     X_train, X_test, y_train, y_test = train_test_split(X, y, test_size=0.33, random_state=42)\n",
    "\n",
    "#     poly = PolynomialFeatures(degree=3)\n",
    "#     X_train_new = poly.fit_transform(X_train)\n",
    "#     X_test_new = poly.transform(X_test)\n",
    "\n",
    "#     reg_lasso = Lasso(alpha = alpha)\n",
    "#     reg_lasso.fit(X_train_new,y_train)\n",
    "    \n",
    "#     y_train_pred_lasso = reg_lasso.predict(X_train_new)\n",
    "#     y_test_pred_lasso = reg_lasso.predict(X_test_new)\n",
    "    \n",
    "#     rmse_test_l_3 = np.sqrt(mean_squared_error(y_test, y_test_pred_lasso))\n",
    "#     print(f'Alpha : {alpha}')\n",
    "#     print(f'Raíz del error cuadrático medio en Test: {rmse_test_l_3}', f'Resultado anterior: {rmse_test_l}')"
   ]
  },
  {
   "cell_type": "markdown",
   "metadata": {
    "id": "N1uRL0AmHlA7"
   },
   "source": [
    "El mejor resultado con regularización `Ridge` fue:\n",
    "- Alpha : 10\n",
    "- Raíz del error cuadrático medio en Test: 117966.66723610135 Resultado anterior: 117825.71046343763\n",
    "\n",
    "En cambio, el mejor resultado con regularización `Lasso` fue:\n",
    "- Alpha : 10\n",
    "- Raíz del error cuadrático medio en Test: 117632.59226999851 Resultado anterior: 117825.71046343763\n",
    "\n",
    "De acuerdo a lo anterior, la diferencia de sólo 200 puntos entre una regresión lineal simple y una regresión lineal con polinomial features y regularización, hace suponer que que es mejor optar por la primera opción, que optimiza los recursos y es capaz de tomar todo el dataset sin sobrecargar la memoria operativa."
   ]
  },
  {
   "cell_type": "markdown",
   "metadata": {
    "id": "BmgKfcUtHlA7"
   },
   "source": [
    "### Optimización de hiperparámetros"
   ]
  },
  {
   "cell_type": "markdown",
   "metadata": {
    "id": "598RZ8cZHlA7"
   },
   "source": [
    "#### 1. `Random Forest`"
   ]
  },
  {
   "cell_type": "markdown",
   "metadata": {
    "id": "WITXB08HHlA8"
   },
   "source": [
    "Durante tres días se intentó realizar tanto un Random Search como un Grid Search sobre este modelo. La elección fue dada por considerarse a ambos métodos muy certeros en su evaluación de hiperparámetros, permitiendo evaluar no sólo uno si no varios de ellos a la vez. Sin embargo, no fue posible correr dicho método ni en Jupyter, ni en Google Colab. De todas formas se deja el código utilizado para su evaluación.\n",
    "\n",
    "Se procedió entonces a realizar una búsqueda manual, haciendo uso de herramientas vistas durante la cursada, que resultaron ser muy útiles a la hora de buscar la optimización de los hiperparámetros."
   ]
  },
  {
   "cell_type": "code",
   "execution_count": 42,
   "metadata": {
    "id": "TvF-HJUOHlA8"
   },
   "outputs": [],
   "source": [
    "# from sklearn.model_selection import GridSearchCV\n",
    "# from scipy.stats import randint\n",
    "\n",
    "# X = df_sin_hoe.drop(['Precio', 'Descripcion', 'Titulo'], axis=1)\n",
    "# y = df_sin_hoe.Precio\n",
    "\n",
    "# X_train, X_test, y_train, y_test = train_test_split(X, y, test_size=0.33, random_state=42)\n",
    "\n",
    "# parameters = {'criterion':['mae', 'mse'], 'max_depth':[2,3,4,5,6,7]}\n",
    "\n",
    "# tree_grid = RandomForestRegressor()\n",
    "\n",
    "# clf = GridSearchCV(tree_grid, parameters)\n",
    "# clf.fit(X_train, y_train)\n",
    "\n",
    "# clf.best_params_"
   ]
  },
  {
   "cell_type": "code",
   "execution_count": 43,
   "metadata": {
    "id": "VA_maekgXzXP"
   },
   "outputs": [],
   "source": [
    "# X = df_sin_hoe.drop(['Precio', 'Descripcion', 'Titulo'], axis=1)\n",
    "# y = df_sin_hoe.Precio\n",
    "\n",
    "# X_train, X_test, y_train, y_test = train_test_split(X, y, test_size=0.33, random_state=42)\n",
    "\n",
    "\n",
    "# from sklearn.model_selection import RandomizedSearchCV\n",
    "# # Number of trees in random forest\n",
    "# n_estimators = [int(x) for x in np.linspace(start = 200, stop = 2000, num = 10)]\n",
    "# # Number of features to consider at every split\n",
    "# max_features = ['auto', 'sqrt']\n",
    "# # Maximum number of levels in tree\n",
    "# max_depth = [int(x) for x in np.linspace(10, 110, num = 11)]\n",
    "# max_depth.append(None)\n",
    "# # Minimum number of samples required to split a node\n",
    "# min_samples_split = [2, 5, 10]\n",
    "# # Minimum number of samples required at each leaf node\n",
    "# min_samples_leaf = [1, 2, 4]\n",
    "# # Method of selecting samples for training each tree\n",
    "# bootstrap = [True, False]\n",
    "# # Create the random grid\n",
    "# random_grid = {'n_estimators': n_estimators,\n",
    "#                'max_features': max_features,\n",
    "#                'max_depth': max_depth,\n",
    "#                'min_samples_split': min_samples_split,\n",
    "#                'min_samples_leaf': min_samples_leaf,\n",
    "#                'bootstrap': bootstrap}\n",
    "# print(random_grid)"
   ]
  },
  {
   "cell_type": "code",
   "execution_count": 44,
   "metadata": {
    "id": "HCPlJMsRX2yC"
   },
   "outputs": [],
   "source": [
    "# # Use the random grid to search for best hyperparameters\n",
    "# # First create the base model to tune\n",
    "# rf = RandomForestRegressor()\n",
    "# # Random search of parameters, using 3 fold cross validation, \n",
    "# # search across 100 different combinations, and use all available cores\n",
    "# rf_random = RandomizedSearchCV(estimator = rf, param_distributions = random_grid, n_iter = 100, cv = 3, verbose=2, random_state=42, n_jobs = -1)\n",
    "# # Fit the random search model\n",
    "# rf_random.fit(X_train, y_train)"
   ]
  },
  {
   "cell_type": "code",
   "execution_count": 45,
   "metadata": {
    "id": "TbKdAh_4HlA8"
   },
   "outputs": [],
   "source": [
    "from scipy.stats import randint\n",
    "max_depth = range(2,20)\n",
    "resultados = []\n",
    "\n",
    "for i in max_depth:\n",
    "    X = df.drop(['Precio', 'Descripcion', 'Titulo'], axis=1)\n",
    "    y = df.Precio\n",
    "\n",
    "    # Instanciamos el modelo.\n",
    "    forest = RandomForestRegressor(max_depth=i)\n",
    "\n",
    "    # Separamos los datos en train y test.\n",
    "    X_train, X_test, y_train, y_test = train_test_split(X, y, test_size=0.33, random_state=42)\n",
    "\n",
    "    # Fiteamos y predecimos sobre el conjunto test.\n",
    "    forest.fit(X_train, y_train)\n",
    "    y_pred_r_2 = forest.predict(X_test)\n",
    "\n",
    "    rmse_test_r_2 = np.sqrt(mean_squared_error(y_test, y_pred_r_2))\n",
    "    resultados.append(rmse_test_r_2)\n",
    "#     print(f'Profundidad: {i}. Raíz del error cuadrático medio en Test: {rmse_test_r_2}', f'Resultado anterior: {rmse_test_r}')\n",
    "    \n",
    "# scores_train_r = cross_val_score(forest, X_train, y_train)\n",
    "# scrores_test_r = cross_val_score(forest, X_test, y_test)\n",
    "\n",
    "# print(\"%0.2f promedio de accuracy en train y %0.2f en test\" % (scores_train_r.mean(), scrores_test_r.mean()))"
   ]
  },
  {
   "cell_type": "code",
   "execution_count": 46,
   "metadata": {
    "colab": {
     "base_uri": "https://localhost:8080/",
     "height": 295
    },
    "id": "0E9fFueDHlA8",
    "outputId": "abc40c8b-ee1b-4425-dde0-17a49961b984"
   },
   "outputs": [
    {
     "data": {
      "image/png": "[encoded data removed]",
      "text/plain": [
       "<Figure size 432x288 with 1 Axes>"
      ]
     },
     "metadata": {
      "needs_background": "light"
     },
     "output_type": "display_data"
    }
   ],
   "source": [
    "plt.plot(max_depth, resultados, label = 'Test')\n",
    "\n",
    "plt.xlabel('Profundidad')\n",
    "plt.ylabel('RMSE')\n",
    "plt.title('Variacion del error del modelo en funcion de la profundidad del arbol')\n",
    "\n",
    "# Este comando enciende la grilla de referencia \n",
    "plt.grid()\n",
    "\n",
    "# Agregamos la leyenda al gráfico (El leyend agrega el cuadrito donde dice que es cada linea)\n",
    "plt.legend() #loc='upper center', shadow=True, fontsize='x-large')\n",
    "plt.show()"
   ]
  },
  {
   "cell_type": "markdown",
   "metadata": {
    "id": "kPOCJEqeHlA8"
   },
   "source": [
    "Se observa que alrededor de la profundidad 10 - 15, el bosque tiene buenos resultados. Se hipotetiza que luego ya overfitteará.\n",
    "\n",
    "A continuación se evaluará el número de estimadores."
   ]
  },
  {
   "cell_type": "code",
   "execution_count": 47,
   "metadata": {
    "id": "E4P7CJGbHlA8"
   },
   "outputs": [],
   "source": [
    "from scipy.stats import randint\n",
    "n_estimators = [10,50,100,150,200,250]\n",
    "resultados_2 = []\n",
    "\n",
    "for i in n_estimators:\n",
    "    X = df.drop(['Precio', 'Descripcion', 'Titulo'], axis=1)\n",
    "    y = df.Precio\n",
    "\n",
    "    # Instanciamos el modelo.\n",
    "    forest = RandomForestRegressor(n_estimators=i)\n",
    "\n",
    "    # Separamos los datos en train y test.\n",
    "    X_train, X_test, y_train, y_test = train_test_split(X, y, test_size=0.33, random_state=42)\n",
    "\n",
    "    # Fiteamos y predecimos sobre el conjunto test.\n",
    "    forest.fit(X_train, y_train)\n",
    "    y_pred_r_2 = forest.predict(X_test)\n",
    "\n",
    "    rmse_test_r_2 = np.sqrt(mean_squared_error(y_test, y_pred_r_2))\n",
    "    resultados_2.append(rmse_test_r_2)"
   ]
  },
  {
   "cell_type": "code",
   "execution_count": 48,
   "metadata": {
    "colab": {
     "base_uri": "https://localhost:8080/",
     "height": 295
    },
    "id": "sA3i0CfpHlA8",
    "outputId": "0cc2fdf8-8962-4293-d815-80d6f9c348c6"
   },
   "outputs": [
    {
     "data": {
      "image/png": "[encoded data removed]",
      "text/plain": [
       "<Figure size 432x288 with 1 Axes>"
      ]
     },
     "metadata": {
      "needs_background": "light"
     },
     "output_type": "display_data"
    }
   ],
   "source": [
    "plt.plot(n_estimators, resultados_2, label = 'Test')\n",
    "\n",
    "plt.xlabel('Estimadores')\n",
    "plt.ylabel('RMSE')\n",
    "plt.title('Variacion del error del modelo en funcion de la profundidad del arbol')\n",
    "\n",
    "# Este comando enciende la grilla de referencia \n",
    "plt.grid()\n",
    "\n",
    "# Agregamos la leyenda al gráfico (El leyend agrega el cuadrito donde dice que es cada linea)\n",
    "plt.legend() #loc='upper center', shadow=True, fontsize='x-large')\n",
    "plt.show()"
   ]
  },
  {
   "cell_type": "markdown",
   "metadata": {
    "id": "S3yHtpr2HlA9"
   },
   "source": [
    "Se corre nuevamente un ciclo for con el mejor número de estimadores, y dentro del rango de los mejores en profundidad, para ver el desempeño del modelo."
   ]
  },
  {
   "cell_type": "code",
   "execution_count": 49,
   "metadata": {
    "id": "QZlcSxIAHlA9"
   },
   "outputs": [],
   "source": [
    "from scipy.stats import randint\n",
    "max_depth = range(5,15)\n",
    "resultados_3 = []\n",
    "\n",
    "for i in max_depth:\n",
    "    X = df.drop(['Precio', 'Descripcion', 'Titulo'], axis=1)\n",
    "    y = df.Precio\n",
    "\n",
    "    # Instanciamos el modelo.\n",
    "    forest = RandomForestRegressor(max_depth=i, n_estimators=200)\n",
    "\n",
    "    # Separamos los datos en train y test.\n",
    "    X_train, X_test, y_train, y_test = train_test_split(X, y, test_size=0.33, random_state=42)\n",
    "\n",
    "    # Fiteamos y predecimos sobre el conjunto test.\n",
    "    forest.fit(X_train, y_train)\n",
    "    y_pred_r_2 = forest.predict(X_test)\n",
    "\n",
    "    rmse_test_r_2 = np.sqrt(mean_squared_error(y_test, y_pred_r_2))\n",
    "    resultados_3.append(rmse_test_r_2)"
   ]
  },
  {
   "cell_type": "code",
   "execution_count": 50,
   "metadata": {
    "colab": {
     "base_uri": "https://localhost:8080/",
     "height": 295
    },
    "id": "8_5VGIPlHlA9",
    "outputId": "8c22c86b-6774-43cf-e103-c8d9d593c62b"
   },
   "outputs": [
    {
     "data": {
      "image/png": "[encoded data removed]",
      "text/plain": [
       "<Figure size 432x288 with 1 Axes>"
      ]
     },
     "metadata": {
      "needs_background": "light"
     },
     "output_type": "display_data"
    }
   ],
   "source": [
    "plt.plot(max_depth, resultados_3, label = 'Test')\n",
    "\n",
    "plt.xlabel('Profundidad')\n",
    "plt.ylabel('RMSE')\n",
    "plt.title('Variacion del error del modelo en funcion de la profundidad del arbol')\n",
    "\n",
    "# Este comando enciende la grilla de referencia \n",
    "plt.grid()\n",
    "\n",
    "# Agregamos la leyenda al gráfico (El leyend agrega el cuadrito donde dice que es cada linea)\n",
    "plt.legend() #loc='upper center', shadow=True, fontsize='x-large')\n",
    "plt.show()"
   ]
  },
  {
   "cell_type": "markdown",
   "metadata": {
    "id": "XBSl6l8WHlA9"
   },
   "source": [
    "Se seleccionarán en este caso la profundidad 11 y 200 estimadores."
   ]
  },
  {
   "cell_type": "markdown",
   "metadata": {
    "id": "QAiflr_LHlA9"
   },
   "source": [
    "A continuación se lo comparará con los resultados obtenidos con los parámetros por defecto."
   ]
  },
  {
   "cell_type": "code",
   "execution_count": 51,
   "metadata": {
    "colab": {
     "base_uri": "https://localhost:8080/"
    },
    "id": "7SnZYz6hHlA9",
    "outputId": "dbc88676-4799-44c8-a623-703dc9c8dab8"
   },
   "outputs": [
    {
     "name": "stdout",
     "output_type": "stream",
     "text": [
      "Raíz del error cuadrático medio en Test: 97033.75663255235', Resultado original de random forest: 87340.5837257878\n",
      "Scores de Random Forest con optimización manual de hiperparámetros: 0.56 promedio de score en train y 0.69 en test\n",
      "Scores de Random Forest sin optimización 0.60 promedio de score en train y 0.73 en test\n"
     ]
    }
   ],
   "source": [
    "forest_mod = RandomForestRegressor(max_depth=11, n_estimators=200)\n",
    "\n",
    "# Separamos los datos en train y test.\n",
    "X_train, X_test, y_train, y_test = train_test_split(X, y, test_size=0.33, random_state=42)\n",
    "\n",
    "    # Fiteamos y predecimos sobre el conjunto test.\n",
    "forest_mod.fit(X_train, y_train)\n",
    "y_pred_r_mod = forest_mod.predict(X_test)\n",
    "\n",
    "rmse_test_r_mod = np.sqrt(mean_squared_error(y_test, y_pred_r_mod))\n",
    "\n",
    "print(f\"Raíz del error cuadrático medio en Test: {rmse_test_r_mod}', Resultado original de random forest: {rmse_test_r}\")\n",
    "    \n",
    "scores_train_r_mod = cross_val_score(forest_mod, X_train, y_train)\n",
    "scrores_test_r_mod = cross_val_score(forest_mod, X_test, y_test)\n",
    "\n",
    "print(\"Scores de Random Forest con optimización manual de hiperparámetros: %0.2f promedio de score en train y %0.2f en test\" % (scores_train_r_mod.mean(), scrores_test_r_mod.mean()))\n",
    "print(\"Scores de Random Forest sin optimización\", \"%0.2f promedio de score en train y %0.2f en test\" % (scores_train_r.mean(), scrores_test_r.mean()))      "
   ]
  },
  {
   "cell_type": "markdown",
   "metadata": {
    "id": "SquPkJ0dHlA-"
   },
   "source": [
    "#### 2. `Linear Regression`"
   ]
  },
  {
   "cell_type": "markdown",
   "metadata": {
    "id": "cjR1_WZlHlA-"
   },
   "source": [
    "Dentro de este modelo, se eligió optimizar `n_jobs`. Se utilizó un GridSearch para optimizar la búsqueda."
   ]
  },
  {
   "cell_type": "code",
   "execution_count": 52,
   "metadata": {
    "colab": {
     "base_uri": "https://localhost:8080/"
    },
    "id": "IuZ1YbegHlA-",
    "outputId": "b8a2a519-b06f-41d7-f1d9-3af8fc1d5940"
   },
   "outputs": [
    {
     "name": "stdout",
     "output_type": "stream",
     "text": [
      "Raíz del error cuadrático medio en Test: 117825.71046343763 Resultado original: 117825.71046343763\n",
      "Score original: 0.5313415700910848 Resultado obtenido:\n",
      "0.53 promedio de score en test\n",
      "Raíz del error cuadrático medio en Test: 117825.71046343763 Resultado original: 117825.71046343763\n",
      "Score original: 0.5313415700910848 Resultado obtenido:\n",
      "0.53 promedio de score en test\n",
      "Raíz del error cuadrático medio en Test: 117825.71046343763 Resultado original: 117825.71046343763\n",
      "Score original: 0.5313415700910848 Resultado obtenido:\n",
      "0.53 promedio de score en test\n"
     ]
    }
   ],
   "source": [
    "n_jobs = [1,-1,2]\n",
    "scores_lr = []\n",
    "\n",
    "for i in n_jobs:\n",
    "    reg_3 = LinearRegression(n_jobs=i)\n",
    "\n",
    "    X = df.drop(['Precio', 'Descripcion', 'Titulo'], axis=1)\n",
    "    y = df.Precio\n",
    "\n",
    "    X_train, X_test, y_train, y_test = train_test_split(X, y, test_size=0.33, random_state=42)\n",
    "    reg_3.fit(X_train, y_train)\n",
    "\n",
    "    y_test_pred_3 = reg_3.predict(X_test)\n",
    "\n",
    "    rmse_test_l_3 = np.sqrt(mean_squared_error(y_test, y_test_pred_3))\n",
    "    print(f'Raíz del error cuadrático medio en Test: {rmse_test_l_3}', f'Resultado original: {rmse_test_l}')\n",
    "\n",
    "    scores_test_rl_3 = cross_val_score(reg_3, X_test, y_test)\n",
    "    scores_lr.append(scores_test_rl_3)\n",
    "    print(f'Score original: {scores_test_rl.mean()}', \"Resultado obtenido:\")\n",
    "    print(\"%0.2f promedio de score en test\" % (scores_test_rl_3.mean()))"
   ]
  },
  {
   "cell_type": "code",
   "execution_count": 53,
   "metadata": {
    "colab": {
     "base_uri": "https://localhost:8080/"
    },
    "id": "82aQbd_YHlA-",
    "outputId": "bc0177f3-9edb-47b7-d808-111968dd84d9"
   },
   "outputs": [
    {
     "data": {
      "text/plain": [
       "{'n_jobs': 1}"
      ]
     },
     "execution_count": 53,
     "metadata": {},
     "output_type": "execute_result"
    }
   ],
   "source": [
    "from sklearn.model_selection import GridSearchCV\n",
    "from scipy.stats import randint\n",
    "\n",
    "X = df.drop(['Precio', 'Descripcion', 'Titulo'], axis=1)\n",
    "y = df.Precio\n",
    "\n",
    "X_train, X_test, y_train, y_test = train_test_split(X, y, test_size=0.33, random_state=42)\n",
    "\n",
    "parameters = {'n_jobs':[1,-1,2]}\n",
    "\n",
    "lineal = LinearRegression()\n",
    "\n",
    "clf = GridSearchCV(lineal, parameters)\n",
    "clf.fit(X_train, y_train)\n",
    "\n",
    "clf.best_params_"
   ]
  },
  {
   "cell_type": "code",
   "execution_count": 54,
   "metadata": {
    "colab": {
     "base_uri": "https://localhost:8080/"
    },
    "id": "SqR9eXyiHlA-",
    "outputId": "55d342c7-a91e-4aa2-f287-f645d28563bb"
   },
   "outputs": [
    {
     "name": "stdout",
     "output_type": "stream",
     "text": [
      "0.8348739611439712\n"
     ]
    }
   ],
   "source": [
    "import plotly.express as px\n",
    "from sklearn.decomposition import PCA\n",
    "from sklearn.preprocessing import StandardScaler\n",
    "\n",
    "df_pca = df.drop(['Descripcion', 'Titulo'], axis=1)\n",
    "\n",
    "X = df_pca.drop(['Precio'], axis=1)\n",
    "y = df_pca.Precio\n",
    "\n",
    "X_train, X_test, y_train, y_test = train_test_split(X, y, test_size=0.33, random_state=42)\n",
    "\n",
    "sc = StandardScaler()\n",
    "X_train = sc.fit_transform(X_train)\n",
    "X_test = sc.transform(X_test)\n",
    "\n",
    "# n_components = \n",
    "pca = PCA(n_components=80)\n",
    "X_train = pca.fit_transform(X_train)\n",
    "X_test = pca.transform(X_test)\n",
    "\n",
    "explained_variance = pca.explained_variance_ratio_.sum()\n",
    "print(explained_variance)\n",
    "\n",
    "\n",
    "# labels = {str(i): f\"PC {i+1}\" for i in range(n_components)}\n",
    "# labels['color'] = 'Median Price'\n",
    "\n",
    "# fig = px.scatter_matrix(\n",
    "#     components,\n",
    "#     color=df_pca.Precio,\n",
    "#     dimensions=range(n_components),\n",
    "#     labels=labels,\n",
    "#     title=f'Total Explained Variance: {total_var:.2f}%',\n",
    "# )\n",
    "# fig.update_traces(diagonal_visible=False)\n",
    "# fig.show()"
   ]
  },
  {
   "cell_type": "markdown",
   "metadata": {
    "id": "1HwKT_TzUILF"
   },
   "source": [
    "### `Resultado de modelos: Resumen`"
   ]
  },
  {
   "cell_type": "markdown",
   "metadata": {
    "id": "AUUygEKUUTyr"
   },
   "source": [
    "Los modelos entrenados fueron:\n",
    "1. Un árbol de decisión.\n",
    "2. Random Forest Regressor.\n",
    "3. Regresión lineal.\n",
    "\n",
    "A continuación se resumen los mejores resultados de cada modelo."
   ]
  },
  {
   "cell_type": "code",
   "execution_count": 55,
   "metadata": {
    "colab": {
     "base_uri": "https://localhost:8080/"
    },
    "id": "KnQ8j3sRUJjy",
    "outputId": "fd072802-2dda-4cbe-abaa-3325800b13d6"
   },
   "outputs": [
    {
     "name": "stdout",
     "output_type": "stream",
     "text": [
      "Mejor resultado de un sólo árbol de decisión: 0.5650043138141904 en Train, 0.6524418874602811 en Test\n"
     ]
    }
   ],
   "source": [
    "# Arbol de decisión\n",
    "\n",
    "print(f\"Mejor resultado de un sólo árbol de decisión: {score_tree_train} en Train, {score_tree_test} en Test\")"
   ]
  },
  {
   "cell_type": "code",
   "execution_count": 56,
   "metadata": {
    "colab": {
     "base_uri": "https://localhost:8080/"
    },
    "id": "nXg3spt_VYZ8",
    "outputId": "d2b05694-42a3-4938-f55b-4d94ec3c2e88"
   },
   "outputs": [
    {
     "name": "stdout",
     "output_type": "stream",
     "text": [
      "Mejor resultado de Random Forest: 0.6034076180588502 en Train, 0.7255425064722862 en Test\n"
     ]
    }
   ],
   "source": [
    "# Random Forest\n",
    "\n",
    "print(f\"Mejor resultado de Random Forest: {scores_train_r.mean()} en Train, {scrores_test_r.mean()} en Test\")"
   ]
  },
  {
   "cell_type": "code",
   "execution_count": 57,
   "metadata": {
    "colab": {
     "base_uri": "https://localhost:8080/"
    },
    "id": "T_Nnh5Q3VwKJ",
    "outputId": "6a9ccbb9-f79d-4010-a78d-08ff269a56bc"
   },
   "outputs": [
    {
     "name": "stdout",
     "output_type": "stream",
     "text": [
      "Mejor resultado de Regresión Lineal: 0.5313415700910848 en Test\n"
     ]
    }
   ],
   "source": [
    "# Regresión Lineal\n",
    "\n",
    "print(f\"Mejor resultado de Regresión Lineal: {scores_test_rl.mean()} en Test\")"
   ]
  },
  {
   "cell_type": "markdown",
   "metadata": {
    "id": "CBaCFd2wWhjS"
   },
   "source": [
    "Teniendo en cuenta los resultados anteriores, puede decirse que la mejor opción sería un `Random Forest`, que demuestra tener mejores resultados. "
   ]
  },
  {
   "cell_type": "markdown",
   "metadata": {
    "id": "m0pzxeIvW_yE"
   },
   "source": [
    "## <font color=#0FDAB1>PARTE C - Interpretación de modelos y conclusión</font>"
   ]
  },
  {
   "cell_type": "markdown",
   "metadata": {
    "id": "H8qdaoBSlOVX"
   },
   "source": [
    "*¿Qué variables fueron relevantes para el modelo para hacer una predicción? ¿Cuáles no? Además de ver la importancia de cada atributo, también elegir algunos árboles al azar y observar qué atributos considera importantes.*"
   ]
  },
  {
   "cell_type": "markdown",
   "metadata": {
    "id": "jvZoe_iNmCe3"
   },
   "source": [
    "Se tomará el modelo que obtuvo mejores resultados, que en este caso fue el Random Forest, con un score de `0,72 en test`.\n",
    "En principio se observará cuáles considera el modelo que fueron mejores features predictores."
   ]
  },
  {
   "cell_type": "code",
   "execution_count": 58,
   "metadata": {
    "id": "9I5tFyzUl28-"
   },
   "outputs": [],
   "source": [
    "df_forest = pd.DataFrame()\n",
    "df_forest[\"feature_importances\"] = forest.feature_importances_"
   ]
  },
  {
   "cell_type": "code",
   "execution_count": 59,
   "metadata": {
    "colab": {
     "base_uri": "https://localhost:8080/",
     "height": 359
    },
    "id": "-MvnczFLmf2k",
    "outputId": "38256fce-a17d-470c-8ba0-f742f1369336"
   },
   "outputs": [
    {
     "data": {
      "text/html": [
       "<div>\n",
       "<style scoped>\n",
       "    .dataframe tbody tr th:only-of-type {\n",
       "        vertical-align: middle;\n",
       "    }\n",
       "\n",
       "    .dataframe tbody tr th {\n",
       "        vertical-align: top;\n",
       "    }\n",
       "\n",
       "    .dataframe thead th {\n",
       "        text-align: right;\n",
       "    }\n",
       "</style>\n",
       "<table border=\"1\" class=\"dataframe\">\n",
       "  <thead>\n",
       "    <tr style=\"text-align: right;\">\n",
       "      <th></th>\n",
       "      <th>feature_importances</th>\n",
       "    </tr>\n",
       "  </thead>\n",
       "  <tbody>\n",
       "    <tr>\n",
       "      <th>5</th>\n",
       "      <td>0.404486</td>\n",
       "    </tr>\n",
       "    <tr>\n",
       "      <th>102</th>\n",
       "      <td>0.130218</td>\n",
       "    </tr>\n",
       "    <tr>\n",
       "      <th>4</th>\n",
       "      <td>0.119856</td>\n",
       "    </tr>\n",
       "    <tr>\n",
       "      <th>53</th>\n",
       "      <td>0.089774</td>\n",
       "    </tr>\n",
       "    <tr>\n",
       "      <th>2</th>\n",
       "      <td>0.045243</td>\n",
       "    </tr>\n",
       "    <tr>\n",
       "      <th>13</th>\n",
       "      <td>0.040611</td>\n",
       "    </tr>\n",
       "    <tr>\n",
       "      <th>1</th>\n",
       "      <td>0.038098</td>\n",
       "    </tr>\n",
       "    <tr>\n",
       "      <th>3</th>\n",
       "      <td>0.032511</td>\n",
       "    </tr>\n",
       "    <tr>\n",
       "      <th>25</th>\n",
       "      <td>0.022366</td>\n",
       "    </tr>\n",
       "    <tr>\n",
       "      <th>8</th>\n",
       "      <td>0.015975</td>\n",
       "    </tr>\n",
       "  </tbody>\n",
       "</table>\n",
       "</div>"
      ],
      "text/plain": [
       "     feature_importances\n",
       "5               0.404486\n",
       "102             0.130218\n",
       "4               0.119856\n",
       "53              0.089774\n",
       "2               0.045243\n",
       "13              0.040611\n",
       "1               0.038098\n",
       "3               0.032511\n",
       "25              0.022366\n",
       "8               0.015975"
      ]
     },
     "execution_count": 59,
     "metadata": {},
     "output_type": "execute_result"
    }
   ],
   "source": [
    "df_forest = df_forest.sort_values(by='feature_importances', ascending=False)\n",
    "df_forest.head(10)"
   ]
  },
  {
   "cell_type": "code",
   "execution_count": 60,
   "metadata": {
    "colab": {
     "base_uri": "https://localhost:8080/"
    },
    "id": "DYPk1CbKpYcq",
    "outputId": "205cbc52-ee6e-4455-aed0-af6b0d0ddf04"
   },
   "outputs": [
    {
     "data": {
      "text/plain": [
       "array(['Sup_Total', 'Sup_Cubierta'], dtype=object)"
      ]
     },
     "execution_count": 60,
     "metadata": {},
     "output_type": "execute_result"
    }
   ],
   "source": [
    "columnas = np.asarray(df.columns)\n",
    "columnas[4:6]"
   ]
  },
  {
   "cell_type": "markdown",
   "metadata": {
    "id": "an0jVwt_ShrL"
   },
   "source": [
    "De acuerdo a lo anterior, tanto la superficie total como la superficie cubierta son variables que el modelo considera muy importantes. Contrario a esto, los demás atributos no se encuentran representados en gran medida. Se observará que opinan algunos árboles al azar. \n",
    "\n",
    "Para ello, dentro de un ciclo for se seleccionarán 4 árboles y se imprimirán sus características particulares, y los 10 features con mayor importancia.\n"
   ]
  },
  {
   "cell_type": "code",
   "execution_count": 61,
   "metadata": {
    "colab": {
     "base_uri": "https://localhost:8080/",
     "height": 1000
    },
    "id": "P4QxIc4-mu32",
    "outputId": "3d74460e-04fd-46eb-fe38-c0b0d1a1415e"
   },
   "outputs": [
    {
     "name": "stdout",
     "output_type": "stream",
     "text": [
      "DecisionTreeRegressor(max_depth=14, max_features='auto', random_state=573141856)\n"
     ]
    },
    {
     "data": {
      "image/png": "[encoded data removed]",
      "text/plain": [
       "<Figure size 432x288 with 1 Axes>"
      ]
     },
     "metadata": {
      "needs_background": "light"
     },
     "output_type": "display_data"
    },
    {
     "name": "stdout",
     "output_type": "stream",
     "text": [
      "DecisionTreeRegressor(max_depth=14, max_features='auto', random_state=336662408)\n"
     ]
    },
    {
     "data": {
      "image/png": "[encoded data removed]",
      "text/plain": [
       "<Figure size 432x288 with 1 Axes>"
      ]
     },
     "metadata": {
      "needs_background": "light"
     },
     "output_type": "display_data"
    },
    {
     "name": "stdout",
     "output_type": "stream",
     "text": [
      "DecisionTreeRegressor(max_depth=14, max_features='auto', random_state=75676992)\n"
     ]
    },
    {
     "data": {
      "image/png": "[encoded data removed]",
      "text/plain": [
       "<Figure size 432x288 with 1 Axes>"
      ]
     },
     "metadata": {
      "needs_background": "light"
     },
     "output_type": "display_data"
    },
    {
     "name": "stdout",
     "output_type": "stream",
     "text": [
      "DecisionTreeRegressor(max_depth=14, max_features='auto', random_state=907378633)\n"
     ]
    },
    {
     "data": {
      "image/png": "[encoded data removed]",
      "text/plain": [
       "<Figure size 432x288 with 1 Axes>"
      ]
     },
     "metadata": {
      "needs_background": "light"
     },
     "output_type": "display_data"
    }
   ],
   "source": [
    "arboles_azar = [2,12,33,45]\n",
    "\n",
    "for i in arboles_azar:\n",
    "  arbol = forest.estimators_[i]\n",
    "  print(arbol)\n",
    "  feat_importances = pd.Series(arbol.feature_importances_, index=X.columns)\n",
    "  feat_importances.nlargest(10).plot(kind='barh')\n",
    "  plt.title(\"Top 10 important features\")\n",
    "  plt.show()"
   ]
  },
  {
   "cell_type": "code",
   "execution_count": 62,
   "metadata": {
    "id": "X8l2if3mnrMn"
   },
   "outputs": [],
   "source": [
    "# print(\"Arbol 2: \", arbol2)\n",
    "# print(\"Arbol 33: \",arbol33)\n",
    "# print(\"Arbol 12: \",arbol12)"
   ]
  },
  {
   "cell_type": "markdown",
   "metadata": {
    "id": "W69YRMbDWDGr"
   },
   "source": [
    "También algunas zonas resultan ser importantes para el modelo, principalmente aquellas donde hay más `departamentos`, feature que también demuestra ser muy importante. Teniendo en cuenta que son más de 100 columnas, se puede ver como son muy pocas las que realmente inciden en los resultados. De modo que quizás arroje buenos resultados un modelo donde se tengan en cuenta unas 5 variables, y se comparará con los resultados anteriores.\n",
    "\n",
    "En este caso se seleccionarán la `superficie cubierta y total, el número de baños, dormitorios y habitaciones, y el tipo de propiedad 'Departamento'`."
   ]
  },
  {
   "cell_type": "code",
   "execution_count": 63,
   "metadata": {
    "colab": {
     "base_uri": "https://localhost:8080/"
    },
    "id": "i7Z1HUwHWDyI",
    "outputId": "5134ccd1-3039-46d4-b1d9-6825ee92ca64"
   },
   "outputs": [
    {
     "name": "stdout",
     "output_type": "stream",
     "text": [
      "132588.96079732917 107603.61000651668\n"
     ]
    }
   ],
   "source": [
    "X = df[['Sup_Cubierta', 'Sup_Total', 'Baths', 'Dormit', 'Hab', 'Tipo_prop_Departamento']]\n",
    "y = df.Precio\n",
    "\n",
    "# Instanciamos el modelo.\n",
    "forest_f = RandomForestRegressor()\n",
    "\n",
    "# Separamos los datos en train y test.\n",
    "X_train, X_test, y_train, y_test = train_test_split(X, y, test_size=0.33, random_state=42)\n",
    "\n",
    "# Fiteamos y predecimos sobre el conjunto test.\n",
    "forest_f.fit(X_train, y_train)\n",
    "y_pred_t_f = forest_f.predict(X_train)\n",
    "y_pred_f = forest_f.predict(X_test)\n",
    "\n",
    "rmse_train = np.sqrt(mean_squared_error(y_train, y_pred_t_f))\n",
    "rmse_test = np.sqrt(mean_squared_error(y_test, y_pred_f))\n",
    "print(rmse_train, rmse_test)"
   ]
  },
  {
   "cell_type": "code",
   "execution_count": 64,
   "metadata": {
    "colab": {
     "base_uri": "https://localhost:8080/"
    },
    "id": "1PAXw2-0ZHrs",
    "outputId": "64e65790-9752-4a00-ec1a-ba3479cf7b23"
   },
   "outputs": [
    {
     "name": "stdout",
     "output_type": "stream",
     "text": [
      "{'n_estimators': [200, 400, 600, 800, 1000, 1200, 1400, 1600, 1800, 2000], 'max_features': ['auto', 'sqrt'], 'max_depth': [10, 20, 30, 40, 50, 60, 70, 80, 90, 100, 110, None], 'min_samples_split': [2, 5, 10], 'min_samples_leaf': [1, 2, 4], 'bootstrap': [True, False]}\n"
     ]
    }
   ],
   "source": [
    "X = df[['Sup_Cubierta', 'Sup_Total', 'Baths', 'Dormit', 'Hab', 'Tipo_prop_Departamento']]\n",
    "y = df.Precio\n",
    "\n",
    "X_train, X_test, y_train, y_test = train_test_split(X, y, test_size=0.33, random_state=42)\n",
    "\n",
    "\n",
    "from sklearn.model_selection import RandomizedSearchCV\n",
    "# Number of trees in random forest\n",
    "n_estimators = [int(x) for x in np.linspace(start = 200, stop = 2000, num = 10)]\n",
    "# Number of features to consider at every split\n",
    "max_features = ['auto', 'sqrt']\n",
    "# Maximum number of levels in tree\n",
    "max_depth = [int(x) for x in np.linspace(10, 110, num = 11)]\n",
    "max_depth.append(None)\n",
    "# Minimum number of samples required to split a node\n",
    "min_samples_split = [2, 5, 10]\n",
    "# Minimum number of samples required at each leaf node\n",
    "min_samples_leaf = [1, 2, 4]\n",
    "# Method of selecting samples for training each tree\n",
    "bootstrap = [True, False]\n",
    "# Create the random grid\n",
    "random_grid = {'n_estimators': n_estimators,\n",
    "               'max_features': max_features,\n",
    "               'max_depth': max_depth,\n",
    "               'min_samples_split': min_samples_split,\n",
    "               'min_samples_leaf': min_samples_leaf,\n",
    "               'bootstrap': bootstrap}\n",
    "print(random_grid)"
   ]
  },
  {
   "cell_type": "code",
   "execution_count": 65,
   "metadata": {
    "id": "SWLSNCzKYNKg"
   },
   "outputs": [],
   "source": [
    "# Use the random grid to search for best hyperparameters\n",
    "# First create the base model to tune\n",
    "# rf = RandomForestRegressor()\n",
    "# # Random search of parameters, using 3 fold cross validation, \n",
    "# # search across 100 different combinations, and use all available cores\n",
    "# rf_random = RandomizedSearchCV(estimator = rf, param_distributions = random_grid, n_iter = 100, cv = 3, verbose=2, random_state=42, n_jobs = -1)\n",
    "# # Fit the random search model\n",
    "# rf_random.fit(X_train, y_train)"
   ]
  },
  {
   "cell_type": "code",
   "execution_count": 66,
   "metadata": {
    "id": "tFKUgrEcZWrX"
   },
   "outputs": [],
   "source": [
    "# print(rf_random.best_estimator_)"
   ]
  },
  {
   "cell_type": "code",
   "execution_count": 67,
   "metadata": {
    "colab": {
     "base_uri": "https://localhost:8080/"
    },
    "id": "tKmF1Z7LVNEz",
    "outputId": "66b0962b-dbb1-4607-be08-b99a97e2cc2d"
   },
   "outputs": [
    {
     "name": "stdout",
     "output_type": "stream",
     "text": [
      "Resultados anteriores:\n",
      "132588.96079732917 107603.61000651668\n",
      "Resultados con optimización de hiperparámetros:\n",
      "135980.21258784257 107090.3821741241\n"
     ]
    }
   ],
   "source": [
    "X = df[['Sup_Cubierta', 'Sup_Total', 'Baths', 'Dormit', 'Hab', 'Tipo_prop_Departamento']]\n",
    "y = df.Precio\n",
    "\n",
    "# Instanciamos el modelo.\n",
    "forest_x = RandomForestRegressor(bootstrap=True, ccp_alpha=0.0, criterion='mse',\n",
    "                      max_depth=20, max_features='sqrt', max_leaf_nodes=None,\n",
    "                      max_samples=None, min_impurity_decrease=0.0,\n",
    "                      min_impurity_split=None, min_samples_leaf=2,\n",
    "                      min_samples_split=2, min_weight_fraction_leaf=0.0,\n",
    "                      n_estimators=1200, n_jobs=None, oob_score=False,\n",
    "                      random_state=None, verbose=0, warm_start=False)\n",
    "\n",
    "# Separamos los datos en train y test.\n",
    "X_train, X_test, y_train, y_test = train_test_split(X, y, test_size=0.33, random_state=42)\n",
    "\n",
    "# Fiteamos y predecimos sobre el conjunto test.\n",
    "forest_x.fit(X_train, y_train)\n",
    "y_pred_t_x = forest_x.predict(X_train)\n",
    "y_pred_x = forest_x.predict(X_test)\n",
    "\n",
    "print(\"Resultados anteriores:\")\n",
    "print(rmse_train, rmse_test)\n",
    "\n",
    "print(\"Resultados con optimización de hiperparámetros:\")\n",
    "rmse_train_x = np.sqrt(mean_squared_error(y_train, y_pred_t_x))\n",
    "rmse_test_x = np.sqrt(mean_squared_error(y_test, y_pred_x))\n",
    "print(rmse_train_x, rmse_test_x)"
   ]
  },
  {
   "cell_type": "code",
   "execution_count": null,
   "metadata": {
    "colab": {
     "base_uri": "https://localhost:8080/"
    },
    "id": "w_Rp-JcH9poh",
    "outputId": "72006057-6a62-4fc3-f17b-ceb8714d7f72"
   },
   "outputs": [
    {
     "name": "stdout",
     "output_type": "stream",
     "text": [
      "Random Forest sin optimización. Cross validation score en Train 0.6034076180588502 Cross validation score en Test 0.7255425064722862\n"
     ]
    }
   ],
   "source": [
    "# Cross validation score Random Forest con y sin optimización de parámetros.\n",
    "\n",
    "print(f\"Random Forest sin optimización. Cross validation score en Train {scores_train_r.mean()}\", f\"Cross validation score en Test {scrores_test_r.mean()}\")\n",
    "\n",
    "scores_train_r_x = cross_val_score(forest_x, X_train, y_train)\n",
    "scores_test_r_x = cross_val_score(forest_x, X_test, y_test)\n",
    "\n",
    "print(f\"Random Forest con optimización. Cross validation score en Train {scores_train_r_x.mean()}\", f\"Cross validation score en Test {scores_test_r_x.mean()}\")"
   ]
  },
  {
   "cell_type": "code",
   "execution_count": null,
   "metadata": {
    "colab": {
     "base_uri": "https://localhost:8080/",
     "height": 293
    },
    "id": "nGcoqabAInzh",
    "outputId": "10e73508-179c-4bc9-f97a-83810e584d56"
   },
   "outputs": [],
   "source": [
    "from collections import OrderedDict\n",
    "from sklearn.datasets import make_classification\n",
    "from sklearn.ensemble import RandomForestClassifier\n",
    "\n",
    "X = df[['Sup_Cubierta', 'Sup_Total', 'Baths', 'Dormit', 'Hab', 'Tipo_prop_Departamento']]\n",
    "y = df.Precio\n",
    "\n",
    "ensemble_clfs = [\n",
    "    (\"RandomForestRegressor, max_features='sqrt'\",\n",
    "        RandomForestRegressor(warm_start=True, oob_score=True,\n",
    "                               max_features=\"sqrt\",\n",
    "                               random_state=RANDOM_STATE)),\n",
    "    (\"RandomForestRegressor, max_features='log2'\",\n",
    "        RandomForestClassifier(warm_start=True, max_features='log2',\n",
    "                               oob_score=True,\n",
    "                               random_state=RANDOM_STATE)),\n",
    "    (\"RandomForestRegressor, max_features=None\",\n",
    "        RandomForestClassifier(warm_start=True, max_features=None,\n",
    "                               oob_score=True,\n",
    "                               random_state=RANDOM_STATE))\n",
    "]\n",
    "\n",
    "# Map a classifier name to a list of (<n_estimators>, <error rate>) pairs.\n",
    "error_rate = OrderedDict((label, []) for label, _ in ensemble_clfs)\n",
    "\n",
    "# Range of `n_estimators` values to explore.\n",
    "min_estimators = 15\n",
    "max_estimators = 175\n",
    "\n",
    "for label, clf in ensemble_clfs:\n",
    "    for i in range(min_estimators, max_estimators + 1):\n",
    "        clf.set_params(n_estimators=i)\n",
    "        clf.fit(X, y)\n",
    "\n",
    "        # Record the OOB error for each `n_estimators=i` setting.\n",
    "        oob_error = 1 - clf.oob_score_\n",
    "        error_rate[label].append((i, oob_error))\n",
    "\n",
    "# Generate the \"OOB error rate\" vs. \"n_estimators\" plot.\n",
    "for label, clf_err in error_rate.items():\n",
    "    xs, ys = zip(*clf_err)\n",
    "    plt.plot(xs, ys, label=label)\n",
    "\n",
    "plt.xlim(min_estimators, max_estimators)\n",
    "plt.xlabel(\"n_estimators\")\n",
    "plt.ylabel(\"OOB error rate\")\n",
    "plt.legend(loc=\"upper right\")\n",
    "plt.show()"
   ]
  },
  {
   "cell_type": "code",
   "execution_count": null,
   "metadata": {
    "colab": {
     "base_uri": "https://localhost:8080/"
    },
    "id": "-Fe124O-KuAU",
    "outputId": "6ea04768-05b1-4098-f9d8-3911bb493a5f"
   },
   "outputs": [],
   "source": [
    "rango = range(0,100)\n",
    "estimador = []\n",
    "oobs_list = []\n",
    "\n",
    "for i in rango:\n",
    "  arbol_f = forest.estimators_[i] \n",
    "  estimador.append(arbol_f)\n",
    "  oobs = forest.oob_prediction_[i]\n",
    "  oobs_list.append(oobs)\n",
    "\n",
    "print(len(oobs_list))\n"
   ]
  },
  {
   "cell_type": "markdown",
   "metadata": {
    "id": "0FjMN02eCQV9"
   },
   "source": [
    "### `Conclusión`"
   ]
  },
  {
   "cell_type": "markdown",
   "metadata": {
    "id": "20UaN_YMCYcT"
   },
   "source": [
    "Al principio del preprocesamiento de los datos se realizó un encoding sobre los datos categóricos que engrosó el tamaño del dataset en casi 10 veces el tamaño original. Por ello, y especialmente por el encoding mediante One Hot Encoding de los barrios de Buenos Aires, es que las opciones para procesar la información estuvieron limitadas.\n",
    "\n",
    "Sin embargo, es cierto que variables que a primera vista parecían importantes, como la superficie de la propiedad, y sus características intrínsecas; se convirtieron en lo que los modelos eligieron para predecir.\n",
    "\n",
    "Después de procesar los datos en dos proyectos diferentes, puede decirse que el modelo de `Random Forest` sigue estando a la vanguardia en cuanto a resultados, y que tiene una versatilidad y rendimiento que se agradece.\n",
    "\n",
    "Es por esto que, en conclusión, de realizarlo nuevamente, el proyecto seguiría un workflow como el que se muestra a continuación: \n",
    "1. Imputación de valores faltantes.\n",
    "2. Remoción de outliers. \n",
    "3. Encoding de las variables categóricas, menos los barrios. \n",
    "4. Entrenamiento de un modelo Random Forest.\n",
    "5. Optimización de sus hiperparámetros.\n",
    "\n",
    "Y esto es por la multiplicidad de variables a tener en cuenta, donde una regresión lineal no demostró tener mejores resultados. De hecho, sus resultados fueron comparables a los de un sólo árbol de decisión. Demostrando así que para este problema en particular, los árboles rindieron mejor, y dentro de las estrategias de Bagging, el Random Forest."
   ]
  },
  {
   "cell_type": "code",
   "execution_count": null,
   "metadata": {
    "id": "FnONXUmKh-_8"
   },
   "outputs": [],
   "source": []
  }
 ],
 "metadata": {
  "colab": {
   "collapsed_sections": [],
   "name": "Proyecto 2.ipynb",
   "provenance": []
  },
  "kernelspec": {
   "display_name": "Python 3",
   "language": "python",
   "name": "python3"
  },
  "language_info": {
   "codemirror_mode": {
    "name": "ipython",
    "version": 3
   },
   "file_extension": ".py",
   "mimetype": "text/x-python",
   "name": "python",
   "nbconvert_exporter": "python",
   "pygments_lexer": "ipython3",
   "version": "3.8.2"
  }
 },
 "nbformat": 4,
 "nbformat_minor": 4
}
